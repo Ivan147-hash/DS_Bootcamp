{
 "cells": [
  {
   "cell_type": "code",
   "execution_count": 101,
   "metadata": {},
   "outputs": [],
   "source": [
    "import pandas as pd\n",
    "import gc"
   ]
  },
  {
   "cell_type": "code",
   "execution_count": 102,
   "metadata": {},
   "outputs": [],
   "source": [
    "# Чтение файла fines.csv\n",
    "fines = pd.read_csv('../data/data_df/fines.csv')"
   ]
  },
  {
   "cell_type": "code",
   "execution_count": 103,
   "metadata": {},
   "outputs": [
    {
     "name": "stdout",
     "output_type": "stream",
     "text": [
      "48.3 ms ± 3.14 ms per loop (mean ± std. dev. of 10 runs, 10 loops each)\n"
     ]
    }
   ],
   "source": [
    "%%timeit  -r 10 -n 10\n",
    "# Функция, которая проходит по фрейму данных через range(0, len(fines))\n",
    "def loop(fines):\n",
    "    result = []\n",
    "    for i in range(0, len(fines)):\n",
    "        result.append(fines.iloc[i]['Fines'] / fines.iloc[i]['Refund'] * fines.iloc[i]['Year'])\n",
    "    return result\n",
    "fines['FinesPerYear'] = loop(fines)"
   ]
  },
  {
   "cell_type": "code",
   "execution_count": 104,
   "metadata": {},
   "outputs": [
    {
     "name": "stdout",
     "output_type": "stream",
     "text": [
      "74.2 ms ± 3.26 ms per loop (mean ± std. dev. of 10 runs, 10 loops each)\n"
     ]
    }
   ],
   "source": [
    "%%timeit  -r 10 -n 10\n",
    "# Функция, которая проходит по фрейму данных через fines.iterrows()\n",
    "def iterr(fines):\n",
    "    result = []\n",
    "    for index, _ in fines.iterrows():\n",
    "        result.append(fines.iloc[index]['Fines'] / fines.iloc[index]['Refund'] * fines.iloc[index]['Year'])\n",
    "    return result\n",
    "fines['FinesPerYear'] = iterr(fines)"
   ]
  },
  {
   "cell_type": "code",
   "execution_count": 105,
   "metadata": {},
   "outputs": [
    {
     "name": "stdout",
     "output_type": "stream",
     "text": [
      "4.03 ms ± 59.2 μs per loop (mean ± std. dev. of 10 runs, 10 loops each)\n"
     ]
    }
   ],
   "source": [
    "%%timeit  -r 10 -n 10\n",
    "# Функция, которая проходит по фрейму данных через apply()\n",
    "fines['FinesPerYear'] = fines.apply(lambda fines: fines['Fines'] / fines['Refund'] * fines['Year'], axis=1)"
   ]
  },
  {
   "cell_type": "code",
   "execution_count": 106,
   "metadata": {},
   "outputs": [
    {
     "name": "stdout",
     "output_type": "stream",
     "text": [
      "119 μs ± 19.5 μs per loop (mean ± std. dev. of 10 runs, 10 loops each)\n"
     ]
    }
   ],
   "source": [
    "%%timeit  -r 10 -n 10\n",
    "# Функция, которая проходит по фрейму данных через объект Series\n",
    "fines['FinesPerYear'] = fines['Fines'] / fines['Refund'] * fines['Year']"
   ]
  },
  {
   "cell_type": "code",
   "execution_count": 107,
   "metadata": {},
   "outputs": [
    {
     "name": "stdout",
     "output_type": "stream",
     "text": [
      "48.1 μs ± 9.57 μs per loop (mean ± std. dev. of 10 runs, 10 loops each)\n"
     ]
    }
   ],
   "source": [
    "%%timeit  -r 10 -n 10\n",
    "# Функция, которая проходит по фрейму данных через метод .values\n",
    "fines['FinesPerYear'] = fines['Fines'].values / fines['Refund'].values * fines['Year'].values"
   ]
  },
  {
   "cell_type": "code",
   "execution_count": 108,
   "metadata": {},
   "outputs": [
    {
     "name": "stdout",
     "output_type": "stream",
     "text": [
      "150 μs ± 14.7 μs per loop (mean ± std. dev. of 10 runs, 10 loops each)\n"
     ]
    }
   ],
   "source": [
    "%%timeit  -r 10 -n 10\n",
    "# Получение строки для определенного номера автомобиля\n",
    "line = fines[fines['CarNumber'] == '9763HY161RUS']"
   ]
  },
  {
   "cell_type": "code",
   "execution_count": 109,
   "metadata": {},
   "outputs": [],
   "source": [
    "# Установка индекса CarNumber\n",
    "fines = fines.set_index('CarNumber')"
   ]
  },
  {
   "cell_type": "code",
   "execution_count": 110,
   "metadata": {},
   "outputs": [
    {
     "name": "stdout",
     "output_type": "stream",
     "text": [
      "120 μs ± 35.6 μs per loop (mean ± std. dev. of 10 runs, 10 loops each)\n"
     ]
    }
   ],
   "source": [
    "%%timeit  -r 10 -n 10\n",
    "# Получение строки для определенного номера автомобиля через индекс\n",
    "line = fines[fines.index == '9763HY161RUS']"
   ]
  },
  {
   "cell_type": "code",
   "execution_count": 111,
   "metadata": {},
   "outputs": [
    {
     "name": "stdout",
     "output_type": "stream",
     "text": [
      "<class 'pandas.core.frame.DataFrame'>\n",
      "Index: 930 entries, Y163O8161RUS to К456DE77\n",
      "Data columns (total 6 columns):\n",
      " #   Column        Non-Null Count  Dtype  \n",
      "---  ------        --------------  -----  \n",
      " 0   Refund        930 non-null    int64  \n",
      " 1   Fines         930 non-null    float64\n",
      " 2   Make          930 non-null    object \n",
      " 3   Model         930 non-null    object \n",
      " 4   Year          930 non-null    int64  \n",
      " 5   FinesPerYear  930 non-null    float64\n",
      "dtypes: float64(2), int64(2), object(2)\n",
      "memory usage: 204.3 KB\n"
     ]
    }
   ],
   "source": [
    "# Использование памяти фреймом fines\n",
    "fines.info(memory_usage='deep')"
   ]
  },
  {
   "cell_type": "code",
   "execution_count": 112,
   "metadata": {},
   "outputs": [
    {
     "name": "stdout",
     "output_type": "stream",
     "text": [
      "<class 'pandas.core.frame.DataFrame'>\n",
      "Index: 930 entries, Y163O8161RUS to К456DE77\n",
      "Data columns (total 6 columns):\n",
      " #   Column        Non-Null Count  Dtype   \n",
      "---  ------        --------------  -----   \n",
      " 0   Refund        930 non-null    int8    \n",
      " 1   Fines         930 non-null    float32 \n",
      " 2   Make          930 non-null    category\n",
      " 3   Model         930 non-null    category\n",
      " 4   Year          930 non-null    int16   \n",
      " 5   FinesPerYear  930 non-null    float64 \n",
      "dtypes: category(2), float32(1), float64(1), int16(1), int8(1)\n",
      "memory usage: 80.6 KB\n"
     ]
    }
   ],
   "source": [
    "# Оптимизация памяти в фрейме fines\n",
    "for col in fines.columns:\n",
    "    col_type = fines[col].dtype\n",
    "    if col_type == 'object':\n",
    "        fines[col] = fines[col].astype('category')\n",
    "    elif col_type in ['int64', 'int32', 'int16', 'int8']:\n",
    "        fines[col] = pd.to_numeric(fines[col], downcast='integer')\n",
    "    elif col_type in ['float64', 'float32']:\n",
    "        fines[col] = pd.to_numeric(fines[col], downcast='float')\n",
    "fines.info(memory_usage='deep')"
   ]
  }
 ],
 "metadata": {
  "kernelspec": {
   "display_name": "Python 3",
   "language": "python",
   "name": "python3"
  },
  "language_info": {
   "codemirror_mode": {
    "name": "ipython",
    "version": 3
   },
   "file_extension": ".py",
   "mimetype": "text/x-python",
   "name": "python",
   "nbconvert_exporter": "python",
   "pygments_lexer": "ipython3",
   "version": "3.11.9"
  }
 },
 "nbformat": 4,
 "nbformat_minor": 2
}
