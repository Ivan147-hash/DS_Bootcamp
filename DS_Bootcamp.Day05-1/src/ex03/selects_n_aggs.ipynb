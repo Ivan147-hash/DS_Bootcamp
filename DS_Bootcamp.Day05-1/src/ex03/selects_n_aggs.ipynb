{
 "cells": [
  {
   "cell_type": "code",
   "execution_count": 57,
   "metadata": {},
   "outputs": [],
   "source": [
    "import pandas as pd"
   ]
  },
  {
   "cell_type": "code",
   "execution_count": 58,
   "metadata": {},
   "outputs": [],
   "source": [
    "# Чтение из файла auto.json\n",
    "df = pd.read_json('../data/auto.json', orient='records')"
   ]
  },
  {
   "cell_type": "code",
   "execution_count": 59,
   "metadata": {},
   "outputs": [
    {
     "data": {
      "text/html": [
       "<div>\n",
       "<style scoped>\n",
       "    .dataframe tbody tr th:only-of-type {\n",
       "        vertical-align: middle;\n",
       "    }\n",
       "\n",
       "    .dataframe tbody tr th {\n",
       "        vertical-align: top;\n",
       "    }\n",
       "\n",
       "    .dataframe thead th {\n",
       "        text-align: right;\n",
       "    }\n",
       "</style>\n",
       "<table border=\"1\" class=\"dataframe\">\n",
       "  <thead>\n",
       "    <tr style=\"text-align: right;\">\n",
       "      <th></th>\n",
       "      <th>Refund</th>\n",
       "      <th>Fines</th>\n",
       "      <th>Make</th>\n",
       "      <th>Model</th>\n",
       "    </tr>\n",
       "    <tr>\n",
       "      <th>CarNumber</th>\n",
       "      <th></th>\n",
       "      <th></th>\n",
       "      <th></th>\n",
       "      <th></th>\n",
       "    </tr>\n",
       "  </thead>\n",
       "  <tbody>\n",
       "    <tr>\n",
       "      <th>Y163O8161RUS</th>\n",
       "      <td>2</td>\n",
       "      <td>3200.000000</td>\n",
       "      <td>Ford</td>\n",
       "      <td>Focus</td>\n",
       "    </tr>\n",
       "    <tr>\n",
       "      <th>E432XX77RUS</th>\n",
       "      <td>1</td>\n",
       "      <td>6500.000000</td>\n",
       "      <td>Toyota</td>\n",
       "      <td>Camry</td>\n",
       "    </tr>\n",
       "    <tr>\n",
       "      <th>7184TT36RUS</th>\n",
       "      <td>1</td>\n",
       "      <td>2100.000000</td>\n",
       "      <td>Ford</td>\n",
       "      <td>Focus</td>\n",
       "    </tr>\n",
       "    <tr>\n",
       "      <th>X582HE161RUS</th>\n",
       "      <td>2</td>\n",
       "      <td>2000.000000</td>\n",
       "      <td>Ford</td>\n",
       "      <td>Focus</td>\n",
       "    </tr>\n",
       "    <tr>\n",
       "      <th>92918M178RUS</th>\n",
       "      <td>1</td>\n",
       "      <td>5700.000000</td>\n",
       "      <td>Ford</td>\n",
       "      <td>Focus</td>\n",
       "    </tr>\n",
       "    <tr>\n",
       "      <th>...</th>\n",
       "      <td>...</td>\n",
       "      <td>...</td>\n",
       "      <td>...</td>\n",
       "      <td>...</td>\n",
       "    </tr>\n",
       "    <tr>\n",
       "      <th>Y163O8161RUS</th>\n",
       "      <td>2</td>\n",
       "      <td>1600.000000</td>\n",
       "      <td>Ford</td>\n",
       "      <td>Focus</td>\n",
       "    </tr>\n",
       "    <tr>\n",
       "      <th>M0309X197RUS</th>\n",
       "      <td>1</td>\n",
       "      <td>22300.000000</td>\n",
       "      <td>Ford</td>\n",
       "      <td>Focus</td>\n",
       "    </tr>\n",
       "    <tr>\n",
       "      <th>O673E8197RUS</th>\n",
       "      <td>2</td>\n",
       "      <td>600.000000</td>\n",
       "      <td>Ford</td>\n",
       "      <td>Focus</td>\n",
       "    </tr>\n",
       "    <tr>\n",
       "      <th>8610T8154RUS</th>\n",
       "      <td>1</td>\n",
       "      <td>2000.000000</td>\n",
       "      <td>Ford</td>\n",
       "      <td>Focus</td>\n",
       "    </tr>\n",
       "    <tr>\n",
       "      <th>H419XE197RUS</th>\n",
       "      <td>2</td>\n",
       "      <td>8594.586466</td>\n",
       "      <td>Toyota</td>\n",
       "      <td>Corolla</td>\n",
       "    </tr>\n",
       "  </tbody>\n",
       "</table>\n",
       "<p>725 rows × 4 columns</p>\n",
       "</div>"
      ],
      "text/plain": [
       "              Refund         Fines    Make    Model\n",
       "CarNumber                                          \n",
       "Y163O8161RUS       2   3200.000000    Ford    Focus\n",
       "E432XX77RUS        1   6500.000000  Toyota    Camry\n",
       "7184TT36RUS        1   2100.000000    Ford    Focus\n",
       "X582HE161RUS       2   2000.000000    Ford    Focus\n",
       "92918M178RUS       1   5700.000000    Ford    Focus\n",
       "...              ...           ...     ...      ...\n",
       "Y163O8161RUS       2   1600.000000    Ford    Focus\n",
       "M0309X197RUS       1  22300.000000    Ford    Focus\n",
       "O673E8197RUS       2    600.000000    Ford    Focus\n",
       "8610T8154RUS       1   2000.000000    Ford    Focus\n",
       "H419XE197RUS       2   8594.586466  Toyota  Corolla\n",
       "\n",
       "[725 rows x 4 columns]"
      ]
     },
     "execution_count": 59,
     "metadata": {},
     "output_type": "execute_result"
    }
   ],
   "source": [
    "# CarNumber становится индексом\n",
    "df.set_index('CarNumber', inplace=True)\n",
    "df"
   ]
  },
  {
   "cell_type": "code",
   "execution_count": 60,
   "metadata": {},
   "outputs": [
    {
     "name": "stdout",
     "output_type": "stream",
     "text": [
      "              Refund         Fines        Make    Model\n",
      "CarNumber                                              \n",
      "Y163O8161RUS       2   3200.000000        Ford    Focus\n",
      "E432XX77RUS        1   6500.000000      Toyota    Camry\n",
      "92918M178RUS       1   5700.000000        Ford    Focus\n",
      "H234YH197RUS       2   6000.000000        Ford    Focus\n",
      "E40577152RUS       1   8594.586466        Ford    Focus\n",
      "...              ...           ...         ...      ...\n",
      "O718MM163RUS       2   8594.586466        Ford    Focus\n",
      "7065C8197RUS       2  11400.000000  Volkswagen   Passat\n",
      "O22097197RUS       1  24300.000000        Ford    Focus\n",
      "M0309X197RUS       1  22300.000000        Ford    Focus\n",
      "H419XE197RUS       2   8594.586466      Toyota  Corolla\n",
      "\n",
      "[455 rows x 4 columns]\n",
      "\n",
      "              Refund         Fines        Make    Model\n",
      "CarNumber                                              \n",
      "Y163O8161RUS       2   3200.000000        Ford    Focus\n",
      "H234YH197RUS       2   6000.000000        Ford    Focus\n",
      "707987163RUS       2   2200.000000        Ford    Focus\n",
      "K330T8197RUS       2   8200.000000       Skoda  Octavia\n",
      "M592CH197RUS       2   8594.586466       Skoda  Octavia\n",
      "...              ...           ...         ...      ...\n",
      "O136HO197RUS       2   7800.000000      Toyota  Corolla\n",
      "O68897197RUS       2  12300.000000        Ford    Focus\n",
      "O718MM163RUS       2   8594.586466        Ford    Focus\n",
      "7065C8197RUS       2  11400.000000  Volkswagen   Passat\n",
      "H419XE197RUS       2   8594.586466      Toyota  Corolla\n",
      "\n",
      "[309 rows x 4 columns]\n"
     ]
    }
   ],
   "source": [
    "# Отображение строк где Fines меньше 2100\n",
    "filtered_df = df[df['Fines'] > 2100]\n",
    "print(filtered_df)\n",
    "print()\n",
    "# Отображение строк где Fines меньше 2100 и Refund равно 2\n",
    "filtered_df = df[(df['Fines'] > 2100) & (df['Refund'] == 2)]\n",
    "print(filtered_df)"
   ]
  },
  {
   "cell_type": "code",
   "execution_count": 61,
   "metadata": {},
   "outputs": [
    {
     "name": "stdout",
     "output_type": "stream",
     "text": [
      "              Refund         Fines    Make    Model\n",
      "CarNumber                                          \n",
      "Y163O8161RUS       2   3200.000000    Ford    Focus\n",
      "7184TT36RUS        1   2100.000000    Ford    Focus\n",
      "X582HE161RUS       2   2000.000000    Ford    Focus\n",
      "92918M178RUS       1   5700.000000    Ford    Focus\n",
      "H234YH197RUS       2   6000.000000    Ford    Focus\n",
      "...              ...           ...     ...      ...\n",
      "Y163O8161RUS       2   1600.000000    Ford    Focus\n",
      "M0309X197RUS       1  22300.000000    Ford    Focus\n",
      "O673E8197RUS       2    600.000000    Ford    Focus\n",
      "8610T8154RUS       1   2000.000000    Ford    Focus\n",
      "H419XE197RUS       2   8594.586466  Toyota  Corolla\n",
      "\n",
      "[593 rows x 4 columns]\n",
      "\n",
      "              Refund          Fines  Make  Model\n",
      "CarNumber                                       \n",
      "92928M178RUS       1    8594.586466  Ford  Focus\n",
      "H115YO163RUS       1    2200.000000  Ford  Focus\n",
      "7788KT197RUS       2   12000.000000  Ford  Focus\n",
      "X758HY197RUS       2   24200.000000  Ford  Focus\n",
      "X758HY197RUS       2   72600.000000  Ford  Focus\n",
      "Y7689C197RUS       1   27000.000000  Ford  Focus\n",
      "92928M178RUS       1     600.000000  Ford  Focus\n",
      "H115YO163RUS       1    8594.586466  Ford  Focus\n",
      "H115YO163RUS       2    1100.000000  Ford  Focus\n",
      "7788KT197RUS       2    8594.586466  Ford  Focus\n",
      "7788KT197RUS       1   20000.000000  Ford  Focus\n",
      "X758HY197RUS       2  145200.000000  Ford  Focus\n",
      "92928M178RUS       1    1200.000000  Ford  Focus\n",
      "Y7689C197RUS       2    9000.000000  Ford  Focus\n",
      "Y7689C197RUS       2   45000.000000  Ford  Focus\n",
      "7788KT197RUS       2    4000.000000  Ford  Focus\n",
      "Y7689C197RUS       1   36000.000000  Ford  Focus\n",
      "92928M178RUS       2    3000.000000  Ford  Focus\n"
     ]
    }
   ],
   "source": [
    "# Отображение строк с Model = ['Focus', 'Corolla']\n",
    "model_list = ['Focus', 'Corolla']\n",
    "filtered_df = df[df['Model'].isin(model_list)]\n",
    "print(filtered_df)\n",
    "print()\n",
    "# Отображение строк с CarNumber = ['Y7689C197RUS', '92928M178RUS', '7788KT197RUS', 'H115YO163RUS', 'X758HY197RUS']\n",
    "car_number = ['Y7689C197RUS', '92928M178RUS', '7788KT197RUS', 'H115YO163RUS', 'X758HY197RUS']\n",
    "filtered_df = df[df.index.isin(car_number)]\n",
    "print(filtered_df)"
   ]
  },
  {
   "cell_type": "code",
   "execution_count": 62,
   "metadata": {},
   "outputs": [
    {
     "name": "stdout",
     "output_type": "stream",
     "text": [
      "Make\n",
      "Audi          4200.0\n",
      "BMW           6500.0\n",
      "Ford          3500.0\n",
      "Skoda         3250.0\n",
      "Toyota        7700.0\n",
      "Volkswagen    4300.0\n",
      "Volvo         8500.0\n",
      "Name: Fines, dtype: float64\n",
      "\n",
      "Make        Model       \n",
      "Audi        Witout model    4200.0\n",
      "BMW         Witout model    6500.0\n",
      "Ford        Focus           3500.0\n",
      "            Mondeo          7650.0\n",
      "Skoda       Octavia         3250.0\n",
      "Toyota      Camry           7700.0\n",
      "            Corolla         7700.0\n",
      "Volkswagen  Golf            4800.0\n",
      "            Jetta           2800.0\n",
      "            Passat          3500.0\n",
      "            Touareg         5800.0\n",
      "            Witout model    7400.0\n",
      "Volvo       Witout model    8500.0\n",
      "Name: Fines, dtype: float64\n"
     ]
    }
   ],
   "source": [
    "# Отображение медианы Fines по Make\n",
    "median_fines_by_make = df.groupby('Make')['Fines'].median()\n",
    "print(median_fines_by_make)\n",
    "print()\n",
    "# Отображение медианы Fines по Make и Model\n",
    "median_fines_by_make_model = df.groupby(['Make', 'Model'])['Fines'].median()\n",
    "print(median_fines_by_make_model)"
   ]
  },
  {
   "cell_type": "code",
   "execution_count": 63,
   "metadata": {},
   "outputs": [
    {
     "name": "stdout",
     "output_type": "stream",
     "text": [
      "Make        Model       \n",
      "Audi        Witout model      1\n",
      "BMW         Witout model      3\n",
      "Ford        Focus           575\n",
      "            Mondeo            6\n",
      "Skoda       Octavia          48\n",
      "Toyota      Camry            16\n",
      "            Corolla          18\n",
      "Volkswagen  Golf             20\n",
      "            Jetta             6\n",
      "            Passat           22\n",
      "            Touareg           5\n",
      "            Witout model      3\n",
      "Volvo       Witout model      2\n",
      "Name: Fines, dtype: int64\n"
     ]
    }
   ],
   "source": [
    "# Количество Fines по Make и Model\n",
    "make_model = df.groupby(['Make', 'Model'])['Fines'].count()\n",
    "print(make_model)"
   ]
  },
  {
   "cell_type": "code",
   "execution_count": 64,
   "metadata": {},
   "outputs": [
    {
     "name": "stdout",
     "output_type": "stream",
     "text": [
      "                            min            max\n",
      "Make       Model                              \n",
      "Audi       Witout model  4200.0    4200.000000\n",
      "BMW        Witout model  3000.0    8594.586466\n",
      "Ford       Focus          100.0  180000.000000\n",
      "           Mondeo        1100.0   46200.000000\n",
      "Skoda      Octavia        300.0  145000.000000\n",
      "Toyota     Camry          500.0   22400.000000\n",
      "           Corolla        900.0   34300.000000\n",
      "Volkswagen Golf           200.0  168000.000000\n",
      "           Jetta          500.0   46000.000000\n",
      "           Passat         100.0   29700.000000\n",
      "           Touareg        500.0    8594.586466\n",
      "           Witout model  1300.0    7900.000000\n",
      "Volvo      Witout model  6800.0   10200.000000\n"
     ]
    }
   ],
   "source": [
    "# Минимальные и максимальные значения Fines\n",
    "min_max_fin = df.groupby(['Make', 'Model'])['Fines'].agg(['min', 'max'])\n",
    "print(min_max_fin)"
   ]
  },
  {
   "cell_type": "code",
   "execution_count": 65,
   "metadata": {},
   "outputs": [
    {
     "name": "stdout",
     "output_type": "stream",
     "text": [
      "Make        Model       \n",
      "Audi        Witout model             NaN\n",
      "BMW         Witout model     2826.561226\n",
      "Ford        Focus           15041.269437\n",
      "            Mondeo          18987.329108\n",
      "Skoda       Octavia         24339.742174\n",
      "Toyota      Camry            6410.250654\n",
      "            Corolla          9629.325617\n",
      "Volkswagen  Golf            36950.839950\n",
      "            Jetta           17743.026799\n",
      "            Passat           6969.739135\n",
      "            Touareg          3461.778173\n",
      "            Witout model     3674.688195\n",
      "Volvo       Witout model     2404.163056\n",
      "Name: Fines, dtype: float64\n"
     ]
    }
   ],
   "source": [
    "# Отображение стандартного отклонения Fines\n",
    "std_df = df.groupby(['Make', 'Model'])['Fines'].std()\n",
    "print(std_df)"
   ]
  },
  {
   "cell_type": "code",
   "execution_count": 66,
   "metadata": {},
   "outputs": [
    {
     "name": "stdout",
     "output_type": "stream",
     "text": [
      "CarNumber\n",
      "Y7689C197RUS    4\n",
      "7788KT197RUS    4\n",
      "92928M178RUS    4\n",
      "Y7129Y50RUS     3\n",
      "X758HY197RUS    3\n",
      "               ..\n",
      "Y967O8197RUS    1\n",
      "Y965O8197RUS    1\n",
      "Y965EE197RUS    1\n",
      "Y964O8197RUS    1\n",
      "Y964EE197RUS    1\n",
      "Name: Fines, Length: 531, dtype: int64\n"
     ]
    }
   ],
   "source": [
    "# Отображение по количеству Fines в порядке убывания\n",
    "count_fines = df.groupby(['CarNumber'])['Fines'].count().sort_values(ascending=False)\n",
    "print(count_fines)"
   ]
  },
  {
   "cell_type": "code",
   "execution_count": 67,
   "metadata": {},
   "outputs": [
    {
     "name": "stdout",
     "output_type": "stream",
     "text": [
      "Y7689C197RUS\n",
      "              Refund    Fines  Make  Model\n",
      "CarNumber                                 \n",
      "Y7689C197RUS       1  27000.0  Ford  Focus\n",
      "Y7689C197RUS       2   9000.0  Ford  Focus\n",
      "Y7689C197RUS       2  45000.0  Ford  Focus\n",
      "Y7689C197RUS       1  36000.0  Ford  Focus\n"
     ]
    }
   ],
   "source": [
    "# Все строки самого заядлого нарушителя\n",
    "number_intruder = count_fines.index[0]\n",
    "print(number_intruder)\n",
    "intruder_line = df[df.index == number_intruder]\n",
    "print(intruder_line)"
   ]
  },
  {
   "cell_type": "code",
   "execution_count": 68,
   "metadata": {},
   "outputs": [
    {
     "name": "stdout",
     "output_type": "stream",
     "text": [
      "CarNumber\n",
      "X758HY197RUS    242000.0\n",
      "9020YC197RUS    217500.0\n",
      "M0279X197RUS    216000.0\n",
      "Y352O8197RUS    207200.0\n",
      "Y778EE197RUS    192000.0\n",
      "                  ...   \n",
      "Y166O8161RUS       100.0\n",
      "K326T8197RUS       100.0\n",
      "Y195O8161RUS       100.0\n",
      "C58078163RUS       100.0\n",
      "705787163RUS       100.0\n",
      "Name: Fines, Length: 531, dtype: float64\n"
     ]
    }
   ],
   "source": [
    "# Номера автомобилей сгруппированные по сумме штрафов\n",
    "sum_fines = df.groupby(['CarNumber'])['Fines'].sum().sort_values(ascending=False)\n",
    "print(sum_fines)"
   ]
  },
  {
   "cell_type": "code",
   "execution_count": 69,
   "metadata": {},
   "outputs": [
    {
     "name": "stdout",
     "output_type": "stream",
     "text": [
      "X758HY197RUS\n",
      "              Refund     Fines  Make  Model\n",
      "CarNumber                                  \n",
      "X758HY197RUS       2   24200.0  Ford  Focus\n",
      "X758HY197RUS       2   72600.0  Ford  Focus\n",
      "X758HY197RUS       2  145200.0  Ford  Focus\n"
     ]
    }
   ],
   "source": [
    "# Нарушитель который заплатил больше всех\n",
    "number_intruder = sum_fines.index[0]\n",
    "print(number_intruder)\n",
    "intruder_line = df[df.index == number_intruder]\n",
    "print(intruder_line)"
   ]
  },
  {
   "cell_type": "code",
   "execution_count": 70,
   "metadata": {},
   "outputs": [
    {
     "name": "stdout",
     "output_type": "stream",
     "text": [
      "              Refund   Fines        Make         Model\n",
      "CarNumber                                             \n",
      "E316EH197RUS       1  1300.0  Volkswagen  Witout model\n",
      "E316EH197RUS       1  1300.0  Volkswagen       Touareg\n"
     ]
    }
   ],
   "source": [
    "# Номера привязанные к разным моделям\n",
    "uniq_model = df.groupby(['CarNumber'])['Model'].nunique()\n",
    "car_multi_number = uniq_model[uniq_model > 1]\n",
    "print(df[df.index.isin(car_multi_number.index)])"
   ]
  }
 ],
 "metadata": {
  "kernelspec": {
   "display_name": "Python 3",
   "language": "python",
   "name": "python3"
  },
  "language_info": {
   "codemirror_mode": {
    "name": "ipython",
    "version": 3
   },
   "file_extension": ".py",
   "mimetype": "text/x-python",
   "name": "python",
   "nbconvert_exporter": "python",
   "pygments_lexer": "ipython3",
   "version": "3.11.9"
  },
  "orig_nbformat": 4
 },
 "nbformat": 4,
 "nbformat_minor": 2
}
