{
 "cells": [
  {
   "cell_type": "markdown",
   "metadata": {},
   "source": [
    "# Day 09. Exercise 00\n",
    "# Regularization"
   ]
  },
  {
   "cell_type": "markdown",
   "metadata": {},
   "source": [
    "## 0. Imports"
   ]
  },
  {
   "cell_type": "code",
   "execution_count": 28,
   "metadata": {},
   "outputs": [],
   "source": [
    "import pandas as pd\n",
    "import numpy as np\n",
    "from sklearn.model_selection import StratifiedKFold, train_test_split\n",
    "from sklearn.linear_model import LogisticRegression\n",
    "from sklearn.multiclass import OneVsRestClassifier\n",
    "from sklearn.svm import SVC\n",
    "from sklearn.tree import DecisionTreeClassifier\n",
    "from sklearn.model_selection import GridSearchCV\n",
    "from sklearn.ensemble import RandomForestClassifier\n",
    "from sklearn.metrics import confusion_matrix\n",
    "from sklearn.metrics import accuracy_score\n",
    "import joblib"
   ]
  },
  {
   "cell_type": "markdown",
   "metadata": {},
   "source": [
    "## 1. Preprocessing"
   ]
  },
  {
   "cell_type": "markdown",
   "metadata": {},
   "source": [
    "1. Read the file `dayofweek.csv` that you used in the previous day to a dataframe.\n",
    "2. Using `train_test_split` with parameters `test_size=0.2`, `random_state=21` get `X_train`, `y_train`, `X_test`, `y_test`. Use the additional parameter `stratify`."
   ]
  },
  {
   "cell_type": "code",
   "execution_count": 3,
   "metadata": {},
   "outputs": [
    {
     "data": {
      "text/html": [
       "<div>\n",
       "<style scoped>\n",
       "    .dataframe tbody tr th:only-of-type {\n",
       "        vertical-align: middle;\n",
       "    }\n",
       "\n",
       "    .dataframe tbody tr th {\n",
       "        vertical-align: top;\n",
       "    }\n",
       "\n",
       "    .dataframe thead th {\n",
       "        text-align: right;\n",
       "    }\n",
       "</style>\n",
       "<table border=\"1\" class=\"dataframe\">\n",
       "  <thead>\n",
       "    <tr style=\"text-align: right;\">\n",
       "      <th></th>\n",
       "      <th>numTrials</th>\n",
       "      <th>hour</th>\n",
       "      <th>dayofweek</th>\n",
       "      <th>uid_user_0</th>\n",
       "      <th>uid_user_1</th>\n",
       "      <th>uid_user_10</th>\n",
       "      <th>uid_user_11</th>\n",
       "      <th>uid_user_12</th>\n",
       "      <th>uid_user_13</th>\n",
       "      <th>uid_user_14</th>\n",
       "      <th>...</th>\n",
       "      <th>labname_lab02</th>\n",
       "      <th>labname_lab03</th>\n",
       "      <th>labname_lab03s</th>\n",
       "      <th>labname_lab05s</th>\n",
       "      <th>labname_laba04</th>\n",
       "      <th>labname_laba04s</th>\n",
       "      <th>labname_laba05</th>\n",
       "      <th>labname_laba06</th>\n",
       "      <th>labname_laba06s</th>\n",
       "      <th>labname_project1</th>\n",
       "    </tr>\n",
       "  </thead>\n",
       "  <tbody>\n",
       "    <tr>\n",
       "      <th>0</th>\n",
       "      <td>-0.788667</td>\n",
       "      <td>-2.562352</td>\n",
       "      <td>4</td>\n",
       "      <td>0.0</td>\n",
       "      <td>0.0</td>\n",
       "      <td>0.0</td>\n",
       "      <td>0.0</td>\n",
       "      <td>0.0</td>\n",
       "      <td>0.0</td>\n",
       "      <td>0.0</td>\n",
       "      <td>...</td>\n",
       "      <td>0.0</td>\n",
       "      <td>0.0</td>\n",
       "      <td>0.0</td>\n",
       "      <td>0.0</td>\n",
       "      <td>0.0</td>\n",
       "      <td>0.0</td>\n",
       "      <td>0.0</td>\n",
       "      <td>0.0</td>\n",
       "      <td>0.0</td>\n",
       "      <td>1.0</td>\n",
       "    </tr>\n",
       "    <tr>\n",
       "      <th>1</th>\n",
       "      <td>-0.756764</td>\n",
       "      <td>-2.562352</td>\n",
       "      <td>4</td>\n",
       "      <td>0.0</td>\n",
       "      <td>0.0</td>\n",
       "      <td>0.0</td>\n",
       "      <td>0.0</td>\n",
       "      <td>0.0</td>\n",
       "      <td>0.0</td>\n",
       "      <td>0.0</td>\n",
       "      <td>...</td>\n",
       "      <td>0.0</td>\n",
       "      <td>0.0</td>\n",
       "      <td>0.0</td>\n",
       "      <td>0.0</td>\n",
       "      <td>0.0</td>\n",
       "      <td>0.0</td>\n",
       "      <td>0.0</td>\n",
       "      <td>0.0</td>\n",
       "      <td>0.0</td>\n",
       "      <td>1.0</td>\n",
       "    </tr>\n",
       "    <tr>\n",
       "      <th>2</th>\n",
       "      <td>-0.724861</td>\n",
       "      <td>-2.562352</td>\n",
       "      <td>4</td>\n",
       "      <td>0.0</td>\n",
       "      <td>0.0</td>\n",
       "      <td>0.0</td>\n",
       "      <td>0.0</td>\n",
       "      <td>0.0</td>\n",
       "      <td>0.0</td>\n",
       "      <td>0.0</td>\n",
       "      <td>...</td>\n",
       "      <td>0.0</td>\n",
       "      <td>0.0</td>\n",
       "      <td>0.0</td>\n",
       "      <td>0.0</td>\n",
       "      <td>0.0</td>\n",
       "      <td>0.0</td>\n",
       "      <td>0.0</td>\n",
       "      <td>0.0</td>\n",
       "      <td>0.0</td>\n",
       "      <td>1.0</td>\n",
       "    </tr>\n",
       "    <tr>\n",
       "      <th>3</th>\n",
       "      <td>-0.692958</td>\n",
       "      <td>-2.562352</td>\n",
       "      <td>4</td>\n",
       "      <td>0.0</td>\n",
       "      <td>0.0</td>\n",
       "      <td>0.0</td>\n",
       "      <td>0.0</td>\n",
       "      <td>0.0</td>\n",
       "      <td>0.0</td>\n",
       "      <td>0.0</td>\n",
       "      <td>...</td>\n",
       "      <td>0.0</td>\n",
       "      <td>0.0</td>\n",
       "      <td>0.0</td>\n",
       "      <td>0.0</td>\n",
       "      <td>0.0</td>\n",
       "      <td>0.0</td>\n",
       "      <td>0.0</td>\n",
       "      <td>0.0</td>\n",
       "      <td>0.0</td>\n",
       "      <td>1.0</td>\n",
       "    </tr>\n",
       "    <tr>\n",
       "      <th>4</th>\n",
       "      <td>-0.661055</td>\n",
       "      <td>-2.562352</td>\n",
       "      <td>4</td>\n",
       "      <td>0.0</td>\n",
       "      <td>0.0</td>\n",
       "      <td>0.0</td>\n",
       "      <td>0.0</td>\n",
       "      <td>0.0</td>\n",
       "      <td>0.0</td>\n",
       "      <td>0.0</td>\n",
       "      <td>...</td>\n",
       "      <td>0.0</td>\n",
       "      <td>0.0</td>\n",
       "      <td>0.0</td>\n",
       "      <td>0.0</td>\n",
       "      <td>0.0</td>\n",
       "      <td>0.0</td>\n",
       "      <td>0.0</td>\n",
       "      <td>0.0</td>\n",
       "      <td>0.0</td>\n",
       "      <td>1.0</td>\n",
       "    </tr>\n",
       "  </tbody>\n",
       "</table>\n",
       "<p>5 rows × 44 columns</p>\n",
       "</div>"
      ],
      "text/plain": [
       "   numTrials      hour  dayofweek  uid_user_0  uid_user_1  uid_user_10  \\\n",
       "0  -0.788667 -2.562352          4         0.0         0.0          0.0   \n",
       "1  -0.756764 -2.562352          4         0.0         0.0          0.0   \n",
       "2  -0.724861 -2.562352          4         0.0         0.0          0.0   \n",
       "3  -0.692958 -2.562352          4         0.0         0.0          0.0   \n",
       "4  -0.661055 -2.562352          4         0.0         0.0          0.0   \n",
       "\n",
       "   uid_user_11  uid_user_12  uid_user_13  uid_user_14  ...  labname_lab02  \\\n",
       "0          0.0          0.0          0.0          0.0  ...            0.0   \n",
       "1          0.0          0.0          0.0          0.0  ...            0.0   \n",
       "2          0.0          0.0          0.0          0.0  ...            0.0   \n",
       "3          0.0          0.0          0.0          0.0  ...            0.0   \n",
       "4          0.0          0.0          0.0          0.0  ...            0.0   \n",
       "\n",
       "   labname_lab03  labname_lab03s  labname_lab05s  labname_laba04  \\\n",
       "0            0.0             0.0             0.0             0.0   \n",
       "1            0.0             0.0             0.0             0.0   \n",
       "2            0.0             0.0             0.0             0.0   \n",
       "3            0.0             0.0             0.0             0.0   \n",
       "4            0.0             0.0             0.0             0.0   \n",
       "\n",
       "   labname_laba04s  labname_laba05  labname_laba06  labname_laba06s  \\\n",
       "0              0.0             0.0             0.0              0.0   \n",
       "1              0.0             0.0             0.0              0.0   \n",
       "2              0.0             0.0             0.0              0.0   \n",
       "3              0.0             0.0             0.0              0.0   \n",
       "4              0.0             0.0             0.0              0.0   \n",
       "\n",
       "   labname_project1  \n",
       "0               1.0  \n",
       "1               1.0  \n",
       "2               1.0  \n",
       "3               1.0  \n",
       "4               1.0  \n",
       "\n",
       "[5 rows x 44 columns]"
      ]
     },
     "execution_count": 3,
     "metadata": {},
     "output_type": "execute_result"
    }
   ],
   "source": [
    "df = pd.read_csv(\"../data/dayofweek.csv\")\n",
    "df.head()"
   ]
  },
  {
   "cell_type": "code",
   "execution_count": 4,
   "metadata": {},
   "outputs": [
    {
     "name": "stdout",
     "output_type": "stream",
     "text": [
      "<class 'pandas.core.frame.DataFrame'>\n",
      "RangeIndex: 1686 entries, 0 to 1685\n",
      "Data columns (total 44 columns):\n",
      " #   Column            Non-Null Count  Dtype  \n",
      "---  ------            --------------  -----  \n",
      " 0   numTrials         1686 non-null   float64\n",
      " 1   hour              1686 non-null   float64\n",
      " 2   dayofweek         1686 non-null   int64  \n",
      " 3   uid_user_0        1686 non-null   float64\n",
      " 4   uid_user_1        1686 non-null   float64\n",
      " 5   uid_user_10       1686 non-null   float64\n",
      " 6   uid_user_11       1686 non-null   float64\n",
      " 7   uid_user_12       1686 non-null   float64\n",
      " 8   uid_user_13       1686 non-null   float64\n",
      " 9   uid_user_14       1686 non-null   float64\n",
      " 10  uid_user_15       1686 non-null   float64\n",
      " 11  uid_user_16       1686 non-null   float64\n",
      " 12  uid_user_17       1686 non-null   float64\n",
      " 13  uid_user_18       1686 non-null   float64\n",
      " 14  uid_user_19       1686 non-null   float64\n",
      " 15  uid_user_2        1686 non-null   float64\n",
      " 16  uid_user_20       1686 non-null   float64\n",
      " 17  uid_user_21       1686 non-null   float64\n",
      " 18  uid_user_22       1686 non-null   float64\n",
      " 19  uid_user_23       1686 non-null   float64\n",
      " 20  uid_user_24       1686 non-null   float64\n",
      " 21  uid_user_25       1686 non-null   float64\n",
      " 22  uid_user_26       1686 non-null   float64\n",
      " 23  uid_user_27       1686 non-null   float64\n",
      " 24  uid_user_28       1686 non-null   float64\n",
      " 25  uid_user_29       1686 non-null   float64\n",
      " 26  uid_user_3        1686 non-null   float64\n",
      " 27  uid_user_30       1686 non-null   float64\n",
      " 28  uid_user_31       1686 non-null   float64\n",
      " 29  uid_user_4        1686 non-null   float64\n",
      " 30  uid_user_6        1686 non-null   float64\n",
      " 31  uid_user_7        1686 non-null   float64\n",
      " 32  uid_user_8        1686 non-null   float64\n",
      " 33  labname_code_rvw  1686 non-null   float64\n",
      " 34  labname_lab02     1686 non-null   float64\n",
      " 35  labname_lab03     1686 non-null   float64\n",
      " 36  labname_lab03s    1686 non-null   float64\n",
      " 37  labname_lab05s    1686 non-null   float64\n",
      " 38  labname_laba04    1686 non-null   float64\n",
      " 39  labname_laba04s   1686 non-null   float64\n",
      " 40  labname_laba05    1686 non-null   float64\n",
      " 41  labname_laba06    1686 non-null   float64\n",
      " 42  labname_laba06s   1686 non-null   float64\n",
      " 43  labname_project1  1686 non-null   float64\n",
      "dtypes: float64(43), int64(1)\n",
      "memory usage: 579.7 KB\n"
     ]
    }
   ],
   "source": [
    "df.info()"
   ]
  },
  {
   "cell_type": "code",
   "execution_count": 5,
   "metadata": {},
   "outputs": [],
   "source": [
    "X = df.drop('dayofweek', axis=1)\n",
    "y = df['dayofweek']"
   ]
  },
  {
   "cell_type": "code",
   "execution_count": 6,
   "metadata": {},
   "outputs": [],
   "source": [
    "X_train, X_test, y_train, y_test = train_test_split(X, y, test_size=0.2, random_state=21, stratify=y)"
   ]
  },
  {
   "cell_type": "markdown",
   "metadata": {},
   "source": [
    "## 2. Logreg regularization"
   ]
  },
  {
   "cell_type": "markdown",
   "metadata": {},
   "source": [
    "### a. Default regularization"
   ]
  },
  {
   "cell_type": "markdown",
   "metadata": {},
   "source": [
    "1. Train a baseline model with the only parameters `random_state=21`, `fit_intercept=False`.\n",
    "2. Use stratified K-fold cross-validation with `10` splits to evaluate the accuracy of the model\n",
    "\n",
    "\n",
    "The result of the code where you trained and evaluated the baseline model should be exactly like this (use `%%time` to get the info about how long it took to run the cell):\n",
    "\n",
    "```\n",
    "train -  0.62902   |   valid -  0.59259\n",
    "train -  0.64633   |   valid -  0.62963\n",
    "train -  0.63479   |   valid -  0.56296\n",
    "train -  0.65622   |   valid -  0.61481\n",
    "train -  0.63397   |   valid -  0.57778\n",
    "train -  0.64056   |   valid -  0.59259\n",
    "train -  0.64138   |   valid -  0.65926\n",
    "train -  0.65952   |   valid -  0.56296\n",
    "train -  0.64333   |   valid -  0.59701\n",
    "train -  0.63674   |   valid -  0.62687\n",
    "Average accuracy on crossval is 0.60165\n",
    "Std is 0.02943\n",
    "```"
   ]
  },
  {
   "cell_type": "code",
   "execution_count": 7,
   "metadata": {},
   "outputs": [],
   "source": [
    "def trained_and_evaluated(model, X, y):\n",
    "    skf = StratifiedKFold(n_splits=10, shuffle=True, random_state=21)\n",
    "    train_scores, valid_scores = [], []\n",
    "    for train_index, valid_index in skf.split(X, y):\n",
    "        X_train, X_valid = X.iloc[train_index], X.iloc[valid_index]\n",
    "        y_train, y_valid = y.iloc[train_index], y.iloc[valid_index]\n",
    "        model.fit(X_train, y_train)\n",
    "        y_train_pred = model.predict(X_train)\n",
    "        y_valid_pred = model.predict(X_valid)\n",
    "\n",
    "        train_accuracy = accuracy_score(y_train, y_train_pred)\n",
    "        valid_accuracy = accuracy_score(y_valid, y_valid_pred)\n",
    "\n",
    "        train_scores.append(train_accuracy)\n",
    "        valid_scores.append(valid_accuracy)\n",
    "\n",
    "        print(f'train -  {train_accuracy:.5f}   |   valid -  {valid_accuracy:.5f}')\n",
    "\n",
    "    avg_train_accuracy = np.mean(train_scores)\n",
    "    avg_valid_accuracy = np.mean(valid_scores)\n",
    "    std_valid_accuracy = np.std(valid_scores)\n",
    "\n",
    "    print(f'Average accuracy on crossval is {avg_valid_accuracy:.5f}')\n",
    "    print(f'Std is {std_valid_accuracy:.5f}')"
   ]
  },
  {
   "cell_type": "code",
   "execution_count": 8,
   "metadata": {},
   "outputs": [
    {
     "name": "stdout",
     "output_type": "stream",
     "text": [
      "train -  0.64056   |   valid -  0.65926\n",
      "train -  0.63561   |   valid -  0.62222\n",
      "train -  0.64468   |   valid -  0.60000\n",
      "train -  0.64056   |   valid -  0.64444\n",
      "train -  0.65375   |   valid -  0.60741\n",
      "train -  0.62902   |   valid -  0.60000\n",
      "train -  0.66117   |   valid -  0.60000\n",
      "train -  0.63726   |   valid -  0.54074\n",
      "train -  0.63756   |   valid -  0.66418\n",
      "train -  0.64745   |   valid -  0.61194\n",
      "Average accuracy on crossval is 0.61502\n",
      "Std is 0.03399\n",
      "CPU times: total: 141 ms\n",
      "Wall time: 161 ms\n"
     ]
    }
   ],
   "source": [
    "%%time\n",
    "trained_and_evaluated(LogisticRegression(random_state=21, fit_intercept=False), X_train, y_train)"
   ]
  },
  {
   "cell_type": "markdown",
   "metadata": {},
   "source": [
    "### b. Optimizing regularization parameters"
   ]
  },
  {
   "cell_type": "markdown",
   "metadata": {},
   "source": [
    "1. In the cells below try different values of penalty: `none`, `l1`, `l2` – you can change the values of solver too."
   ]
  },
  {
   "cell_type": "code",
   "execution_count": 9,
   "metadata": {},
   "outputs": [
    {
     "name": "stdout",
     "output_type": "stream",
     "text": [
      "train -  0.65870   |   valid -  0.67407\n",
      "train -  0.67189   |   valid -  0.60741\n",
      "train -  0.65787   |   valid -  0.62963\n",
      "train -  0.65870   |   valid -  0.66667\n",
      "train -  0.66777   |   valid -  0.60741\n",
      "train -  0.64798   |   valid -  0.62963\n",
      "train -  0.66859   |   valid -  0.59259\n",
      "train -  0.66612   |   valid -  0.60741\n",
      "train -  0.66063   |   valid -  0.70149\n",
      "train -  0.66886   |   valid -  0.62687\n",
      "Average accuracy on crossval is 0.63432\n",
      "Std is 0.03340\n",
      "CPU times: total: 516 ms\n",
      "Wall time: 568 ms\n"
     ]
    }
   ],
   "source": [
    "%%time\n",
    "clf = LogisticRegression(penalty=None, solver='lbfgs', max_iter=1000)\n",
    "trained_and_evaluated(clf, X_train, y_train)"
   ]
  },
  {
   "cell_type": "code",
   "execution_count": 10,
   "metadata": {},
   "outputs": [
    {
     "name": "stdout",
     "output_type": "stream",
     "text": [
      "train -  0.62242   |   valid -  0.62963\n",
      "train -  0.61913   |   valid -  0.59259\n",
      "train -  0.62984   |   valid -  0.60741\n",
      "train -  0.62407   |   valid -  0.62222\n",
      "train -  0.63067   |   valid -  0.57037\n",
      "train -  0.61748   |   valid -  0.59259\n",
      "train -  0.65128   |   valid -  0.60000\n",
      "train -  0.63314   |   valid -  0.53333\n",
      "train -  0.62850   |   valid -  0.65672\n",
      "train -  0.62685   |   valid -  0.58209\n",
      "Average accuracy on crossval is 0.59870\n",
      "Std is 0.03222\n",
      "CPU times: total: 203 ms\n",
      "Wall time: 192 ms\n"
     ]
    }
   ],
   "source": [
    "%%time\n",
    "clf = LogisticRegression(penalty='l1', solver='liblinear', max_iter=1000)\n",
    "clf.fit(X_train, y_train)\n",
    "trained_and_evaluated(clf, X_train, y_train)"
   ]
  },
  {
   "cell_type": "code",
   "execution_count": 11,
   "metadata": {},
   "outputs": [
    {
     "name": "stdout",
     "output_type": "stream",
     "text": [
      "train -  0.64386   |   valid -  0.65926\n",
      "train -  0.64798   |   valid -  0.62963\n",
      "train -  0.64386   |   valid -  0.60741\n",
      "train -  0.64468   |   valid -  0.64444\n",
      "train -  0.65870   |   valid -  0.60741\n",
      "train -  0.63397   |   valid -  0.60000\n",
      "train -  0.66364   |   valid -  0.60000\n",
      "train -  0.63726   |   valid -  0.54074\n",
      "train -  0.64086   |   valid -  0.67910\n",
      "train -  0.64827   |   valid -  0.60448\n",
      "Average accuracy on crossval is 0.61725\n",
      "Std is 0.03645\n",
      "CPU times: total: 625 ms\n",
      "Wall time: 650 ms\n"
     ]
    }
   ],
   "source": [
    "%%time\n",
    "clf = LogisticRegression(penalty='l2', solver='saga', max_iter=1000)\n",
    "trained_and_evaluated(clf, X_train, y_train)"
   ]
  },
  {
   "cell_type": "markdown",
   "metadata": {},
   "source": [
    "## 3. SVM regularization"
   ]
  },
  {
   "cell_type": "markdown",
   "metadata": {},
   "source": [
    "### a. Default regularization"
   ]
  },
  {
   "cell_type": "markdown",
   "metadata": {},
   "source": [
    "1. Train a baseline model with the only parameters `probability=True`, `kernel='linear'`, `random_state=21`.\n",
    "2. Use stratified K-fold cross-validation with `10` splits to evaluate the accuracy of the model.\n",
    "3. The format of the result of the code where you trained and evaluated the baseline model should be similar to what you have got for the logreg."
   ]
  },
  {
   "cell_type": "code",
   "execution_count": 12,
   "metadata": {},
   "outputs": [
    {
     "name": "stdout",
     "output_type": "stream",
     "text": [
      "train -  0.70651   |   valid -  0.68148\n",
      "train -  0.68920   |   valid -  0.64444\n",
      "train -  0.69744   |   valid -  0.66667\n",
      "train -  0.68920   |   valid -  0.65926\n",
      "train -  0.69497   |   valid -  0.63704\n",
      "train -  0.68673   |   valid -  0.68148\n",
      "train -  0.69827   |   valid -  0.61481\n",
      "train -  0.70486   |   valid -  0.57778\n",
      "train -  0.68863   |   valid -  0.72388\n",
      "train -  0.71005   |   valid -  0.64179\n",
      "Average accuracy on crossval is 0.65286\n",
      "Std is 0.03800\n",
      "CPU times: total: 1.7 s\n",
      "Wall time: 1.7 s\n"
     ]
    }
   ],
   "source": [
    "%%time\n",
    "svc = SVC(probability=True, kernel='linear', random_state=21)\n",
    "trained_and_evaluated(svc, X_train, y_train)"
   ]
  },
  {
   "cell_type": "markdown",
   "metadata": {},
   "source": [
    "### b. Optimizing regularization parameters"
   ]
  },
  {
   "cell_type": "markdown",
   "metadata": {},
   "source": [
    "1. In the cells below try different values of the parameter `C`."
   ]
  },
  {
   "cell_type": "code",
   "execution_count": 13,
   "metadata": {},
   "outputs": [
    {
     "name": "stdout",
     "output_type": "stream",
     "text": [
      "train -  0.57049   |   valid -  0.55556\n",
      "train -  0.56884   |   valid -  0.59259\n",
      "train -  0.57543   |   valid -  0.54074\n",
      "train -  0.56142   |   valid -  0.60000\n",
      "train -  0.59110   |   valid -  0.57037\n",
      "train -  0.57873   |   valid -  0.53333\n",
      "train -  0.59687   |   valid -  0.54074\n",
      "train -  0.59439   |   valid -  0.52593\n",
      "train -  0.56590   |   valid -  0.58209\n",
      "train -  0.58731   |   valid -  0.53731\n",
      "Average accuracy on crossval is 0.55787\n",
      "Std is 0.02522\n",
      "CPU times: total: 1.48 s\n",
      "Wall time: 1.58 s\n"
     ]
    }
   ],
   "source": [
    "%%time\n",
    "svc = SVC(C=0.1, probability=True, kernel='linear', random_state=21)\n",
    "trained_and_evaluated(svc, X_train, y_train)"
   ]
  },
  {
   "cell_type": "code",
   "execution_count": 14,
   "metadata": {},
   "outputs": [
    {
     "name": "stdout",
     "output_type": "stream",
     "text": [
      "train -  0.67436   |   valid -  0.65185\n",
      "train -  0.66612   |   valid -  0.62963\n",
      "train -  0.67024   |   valid -  0.65926\n",
      "train -  0.66777   |   valid -  0.62963\n",
      "train -  0.67189   |   valid -  0.62963\n",
      "train -  0.66035   |   valid -  0.62222\n",
      "train -  0.68261   |   valid -  0.59259\n",
      "train -  0.67766   |   valid -  0.57037\n",
      "train -  0.67298   |   valid -  0.70896\n",
      "train -  0.67792   |   valid -  0.60448\n",
      "Average accuracy on crossval is 0.62986\n",
      "Std is 0.03638\n",
      "CPU times: total: 1.56 s\n",
      "Wall time: 1.56 s\n"
     ]
    }
   ],
   "source": [
    "%%time\n",
    "svc = SVC(C=0.5, probability=True, kernel='linear', random_state=21)\n",
    "trained_and_evaluated(svc, X_train, y_train)"
   ]
  },
  {
   "cell_type": "code",
   "execution_count": 15,
   "metadata": {},
   "outputs": [
    {
     "name": "stdout",
     "output_type": "stream",
     "text": [
      "train -  0.70651   |   valid -  0.68148\n",
      "train -  0.68920   |   valid -  0.64444\n",
      "train -  0.69744   |   valid -  0.66667\n",
      "train -  0.68920   |   valid -  0.65926\n",
      "train -  0.69497   |   valid -  0.63704\n",
      "train -  0.68673   |   valid -  0.68148\n",
      "train -  0.69827   |   valid -  0.61481\n",
      "train -  0.70486   |   valid -  0.57778\n",
      "train -  0.68863   |   valid -  0.72388\n",
      "train -  0.71005   |   valid -  0.64179\n",
      "Average accuracy on crossval is 0.65286\n",
      "Std is 0.03800\n",
      "CPU times: total: 1.56 s\n",
      "Wall time: 1.6 s\n"
     ]
    }
   ],
   "source": [
    "%%time\n",
    "svc = SVC(C=1, probability=True, kernel='linear', random_state=21)\n",
    "trained_and_evaluated(svc, X_train, y_train)"
   ]
  },
  {
   "cell_type": "markdown",
   "metadata": {},
   "source": [
    "## 4. Tree"
   ]
  },
  {
   "cell_type": "markdown",
   "metadata": {},
   "source": [
    "### a. Default regularization"
   ]
  },
  {
   "cell_type": "markdown",
   "metadata": {},
   "source": [
    "1. Train a baseline model with the only parameter `max_depth=10` and `random_state=21`.\n",
    "2. Use stratified K-fold cross-validation with `10` splits to evaluate the accuracy of the model.\n",
    "3. The format of the result of the code where you trained and evaluated the baseline model should be similar to what you have got for the logreg."
   ]
  },
  {
   "cell_type": "code",
   "execution_count": 16,
   "metadata": {},
   "outputs": [
    {
     "name": "stdout",
     "output_type": "stream",
     "text": [
      "train -  0.80874   |   valid -  0.77037\n",
      "train -  0.79802   |   valid -  0.70370\n",
      "train -  0.81286   |   valid -  0.72593\n",
      "train -  0.80049   |   valid -  0.74815\n",
      "train -  0.80956   |   valid -  0.68889\n",
      "train -  0.78978   |   valid -  0.74074\n",
      "train -  0.80627   |   valid -  0.60741\n",
      "train -  0.82688   |   valid -  0.71111\n",
      "train -  0.78995   |   valid -  0.79104\n",
      "train -  0.80313   |   valid -  0.70896\n",
      "Average accuracy on crossval is 0.71963\n",
      "Std is 0.04791\n",
      "CPU times: total: 46.9 ms\n",
      "Wall time: 46 ms\n"
     ]
    }
   ],
   "source": [
    "%%time\n",
    "tree_model = DecisionTreeClassifier(max_depth=10, random_state=21)\n",
    "trained_and_evaluated(tree_model, X_train, y_train)"
   ]
  },
  {
   "cell_type": "markdown",
   "metadata": {},
   "source": [
    "### b. Optimizing regularization parameters"
   ]
  },
  {
   "cell_type": "markdown",
   "metadata": {},
   "source": [
    "1. In the cells below try different values of the parameter `max_depth`.\n",
    "2. As a bonus, play with other regularization parameters trying to find the best combination."
   ]
  },
  {
   "cell_type": "code",
   "execution_count": 17,
   "metadata": {},
   "outputs": [],
   "source": [
    "param_grid = {\n",
    "    'max_depth': [2, 3, 4, 5, 10],\n",
    "    'min_samples_split': [2, 3, 4, 5],\n",
    "    'min_samples_leaf': [1, 2, 3, 4],\n",
    "    'max_features': [None, 'sqrt', 'log2'],\n",
    "    'max_leaf_nodes': [5, 10, 15],\n",
    "    'random_state' : [21]\n",
    "}\n",
    "cv = StratifiedKFold(n_splits=10, shuffle=True, random_state=21)"
   ]
  },
  {
   "cell_type": "code",
   "execution_count": 18,
   "metadata": {},
   "outputs": [
    {
     "name": "stdout",
     "output_type": "stream",
     "text": [
      "Best parametrs {'max_depth': 10, 'max_features': None, 'max_leaf_nodes': 15, 'min_samples_leaf': 1, 'min_samples_split': 2, 'random_state': 21}\n",
      "Best score 0.5482310668877833\n",
      "CPU times: total: 1.66 s\n",
      "Wall time: 4.73 s\n"
     ]
    }
   ],
   "source": [
    "%%time\n",
    "grid_search = GridSearchCV(estimator=DecisionTreeClassifier(), param_grid=param_grid, \n",
    "                           scoring='accuracy', cv=cv, n_jobs=-1)\n",
    "grid_search.fit(X_train, y_train)\n",
    "\n",
    "print(f'Best parametrs {grid_search.best_params_}')\n",
    "print(f'Best score {grid_search.best_score_}')"
   ]
  },
  {
   "cell_type": "markdown",
   "metadata": {},
   "source": [
    "## 5. Random forest"
   ]
  },
  {
   "cell_type": "markdown",
   "metadata": {},
   "source": [
    "### a. Default regularization"
   ]
  },
  {
   "cell_type": "markdown",
   "metadata": {},
   "source": [
    "1. Train a baseline model with the only parameters `n_estimators=50`, `max_depth=14`, `random_state=21`.\n",
    "2. Use stratified K-fold cross-validation with `10` splits to evaluate the accuracy of the model.\n",
    "3. The format of the result of the code where you trained and evaluated the baseline model should be similar to what you have got for the logreg."
   ]
  },
  {
   "cell_type": "code",
   "execution_count": 19,
   "metadata": {},
   "outputs": [
    {
     "name": "stdout",
     "output_type": "stream",
     "text": [
      "train -  0.97939   |   valid -  0.85185\n",
      "train -  0.96620   |   valid -  0.85926\n",
      "train -  0.96208   |   valid -  0.91852\n",
      "train -  0.97115   |   valid -  0.91852\n",
      "train -  0.97197   |   valid -  0.88148\n",
      "train -  0.96538   |   valid -  0.86667\n",
      "train -  0.96455   |   valid -  0.88889\n",
      "train -  0.96867   |   valid -  0.87407\n",
      "train -  0.96458   |   valid -  0.93284\n",
      "train -  0.96787   |   valid -  0.86567\n",
      "Average accuracy on crossval is 0.88578\n",
      "Std is 0.02673\n",
      "CPU times: total: 594 ms\n",
      "Wall time: 599 ms\n"
     ]
    }
   ],
   "source": [
    "%%time\n",
    "forest_model = RandomForestClassifier(n_estimators=50, max_depth=14, random_state=21)\n",
    "trained_and_evaluated(forest_model, X_train, y_train)"
   ]
  },
  {
   "cell_type": "markdown",
   "metadata": {},
   "source": [
    "### b. Optimizing regularization parameters"
   ]
  },
  {
   "cell_type": "markdown",
   "metadata": {},
   "source": [
    "1. In the new cells try different values of the parameters `max_depth` and `n_estimators`.\n",
    "2. As a bonus, play with other regularization parameters trying to find the best combination."
   ]
  },
  {
   "cell_type": "code",
   "execution_count": 32,
   "metadata": {},
   "outputs": [
    {
     "name": "stdout",
     "output_type": "stream",
     "text": [
      "train -  0.97197   |   valid -  0.85926\n",
      "train -  0.95548   |   valid -  0.83704\n",
      "train -  0.95548   |   valid -  0.88889\n",
      "train -  0.95796   |   valid -  0.88889\n",
      "train -  0.95466   |   valid -  0.85926\n",
      "train -  0.94641   |   valid -  0.86667\n",
      "train -  0.95218   |   valid -  0.89630\n",
      "train -  0.95796   |   valid -  0.83704\n",
      "train -  0.95387   |   valid -  0.92537\n",
      "train -  0.95799   |   valid -  0.87313\n",
      "Average accuracy on crossval is 0.87318\n",
      "Std is 0.02607\n",
      "CPU times: total: 266 ms\n",
      "Wall time: 255 ms\n"
     ]
    }
   ],
   "source": [
    "%%time\n",
    "forest_model = RandomForestClassifier(n_estimators=20, max_depth=14, random_state=21)\n",
    "trained_and_evaluated(rfc, X_train, y_train)"
   ]
  },
  {
   "cell_type": "code",
   "execution_count": 34,
   "metadata": {},
   "outputs": [
    {
     "name": "stdout",
     "output_type": "stream",
     "text": [
      "train -  0.99670   |   valid -  0.88889\n",
      "train -  0.99918   |   valid -  0.85926\n",
      "train -  0.99670   |   valid -  0.95556\n",
      "train -  0.99835   |   valid -  0.92593\n",
      "train -  0.99753   |   valid -  0.93333\n",
      "train -  0.99423   |   valid -  0.91111\n",
      "train -  0.99670   |   valid -  0.95556\n",
      "train -  0.99835   |   valid -  0.88148\n",
      "train -  0.99835   |   valid -  0.94776\n",
      "train -  0.99506   |   valid -  0.87313\n",
      "Average accuracy on crossval is 0.91320\n",
      "Std is 0.03386\n",
      "CPU times: total: 609 ms\n",
      "Wall time: 663 ms\n"
     ]
    }
   ],
   "source": [
    "%%time\n",
    "forest_model = RandomForestClassifier(n_estimators=50, max_depth=20, random_state=21)\n",
    "trained_and_evaluated(forest_model, X_train, y_train)"
   ]
  },
  {
   "cell_type": "code",
   "execution_count": 40,
   "metadata": {},
   "outputs": [
    {
     "name": "stdout",
     "output_type": "stream",
     "text": [
      "train -  0.99588   |   valid -  0.89630\n",
      "train -  0.99753   |   valid -  0.85926\n",
      "train -  0.99670   |   valid -  0.93333\n",
      "train -  0.99505   |   valid -  0.91852\n",
      "train -  0.99670   |   valid -  0.90370\n",
      "train -  0.99588   |   valid -  0.91852\n",
      "train -  0.99753   |   valid -  0.93333\n",
      "train -  0.99753   |   valid -  0.89630\n",
      "train -  0.99835   |   valid -  0.94030\n",
      "train -  0.99423   |   valid -  0.86567\n",
      "Average accuracy on crossval is 0.90652\n",
      "Std is 0.02643\n",
      "CPU times: total: 281 ms\n",
      "Wall time: 292 ms\n"
     ]
    }
   ],
   "source": [
    "%%time\n",
    "forest_model = RandomForestClassifier(max_features='log2', criterion='entropy', n_estimators=20, max_depth=20, random_state=21)\n",
    "trained_and_evaluated(forest_model, X_train, y_train)"
   ]
  },
  {
   "cell_type": "code",
   "execution_count": 41,
   "metadata": {},
   "outputs": [
    {
     "name": "stdout",
     "output_type": "stream",
     "text": [
      "train -  0.99340   |   valid -  0.87407\n",
      "train -  0.99670   |   valid -  0.85185\n",
      "train -  0.99835   |   valid -  0.93333\n",
      "train -  0.99588   |   valid -  0.91852\n",
      "train -  0.99423   |   valid -  0.91111\n",
      "train -  0.99423   |   valid -  0.91111\n",
      "train -  0.99588   |   valid -  0.94815\n",
      "train -  0.99918   |   valid -  0.87407\n",
      "train -  0.99835   |   valid -  0.94030\n",
      "train -  0.99835   |   valid -  0.88806\n",
      "Average accuracy on crossval is 0.90506\n",
      "Std is 0.03032\n",
      "CPU times: total: 297 ms\n",
      "Wall time: 302 ms\n"
     ]
    }
   ],
   "source": [
    "%%time\n",
    "forest_model = RandomForestClassifier(max_features='sqrt', criterion='entropy', n_estimators=20, max_depth=20, random_state=21)\n",
    "trained_and_evaluated(forest_model, X_train, y_train)"
   ]
  },
  {
   "cell_type": "markdown",
   "metadata": {},
   "source": [
    "## 6. Predictions"
   ]
  },
  {
   "cell_type": "markdown",
   "metadata": {},
   "source": [
    "1. Choose the best model and use it to make predictions for the test dataset.\n",
    "2. Calculate the final accuracy.\n",
    "3. Analyze: for which weekday your model makes the most errors (in % of the total number of samples of that class in your test dataset).\n",
    "4. Save the model."
   ]
  },
  {
   "cell_type": "code",
   "execution_count": 22,
   "metadata": {},
   "outputs": [],
   "source": [
    "forest_model = RandomForestClassifier(max_features='log2', criterion='entropy', n_estimators=20, max_depth=20, random_state=21)\n",
    "forest_model.fit(X_train, y_train)\n",
    "y_pred = forest_model.predict(X_test)"
   ]
  },
  {
   "cell_type": "code",
   "execution_count": 23,
   "metadata": {},
   "outputs": [
    {
     "data": {
      "text/plain": [
       "0.9201183431952663"
      ]
     },
     "execution_count": 23,
     "metadata": {},
     "output_type": "execute_result"
    }
   ],
   "source": [
    "accuracy_score(y_test, y_pred)"
   ]
  },
  {
   "cell_type": "code",
   "execution_count": 25,
   "metadata": {},
   "outputs": [],
   "source": [
    "df_pred = pd.DataFrame({'Actual': y_test, 'Predicted': y_pred})"
   ]
  },
  {
   "cell_type": "code",
   "execution_count": 26,
   "metadata": {},
   "outputs": [],
   "source": [
    "df_pred['Error'] = (df_pred['Actual'] != df_pred['Predicted'])*1\n",
    "\n",
    "error_summary = df_pred.groupby('Actual').agg(\n",
    "    Total_Samples=('Error', 'size'),\n",
    "    Total_Errors=('Error', 'sum')\n",
    ")\n",
    "\n",
    "error_summary['Error_percent'] = ((error_summary.Total_Errors/error_summary.Total_Samples)*100).round(2)"
   ]
  },
  {
   "cell_type": "code",
   "execution_count": 27,
   "metadata": {},
   "outputs": [
    {
     "data": {
      "text/html": [
       "<div>\n",
       "<style scoped>\n",
       "    .dataframe tbody tr th:only-of-type {\n",
       "        vertical-align: middle;\n",
       "    }\n",
       "\n",
       "    .dataframe tbody tr th {\n",
       "        vertical-align: top;\n",
       "    }\n",
       "\n",
       "    .dataframe thead th {\n",
       "        text-align: right;\n",
       "    }\n",
       "</style>\n",
       "<table border=\"1\" class=\"dataframe\">\n",
       "  <thead>\n",
       "    <tr style=\"text-align: right;\">\n",
       "      <th></th>\n",
       "      <th>Total_Samples</th>\n",
       "      <th>Total_Errors</th>\n",
       "      <th>Error_percent</th>\n",
       "    </tr>\n",
       "    <tr>\n",
       "      <th>Actual</th>\n",
       "      <th></th>\n",
       "      <th></th>\n",
       "      <th></th>\n",
       "    </tr>\n",
       "  </thead>\n",
       "  <tbody>\n",
       "    <tr>\n",
       "      <th>4</th>\n",
       "      <td>21</td>\n",
       "      <td>4</td>\n",
       "      <td>19.05</td>\n",
       "    </tr>\n",
       "    <tr>\n",
       "      <th>0</th>\n",
       "      <td>27</td>\n",
       "      <td>5</td>\n",
       "      <td>18.52</td>\n",
       "    </tr>\n",
       "    <tr>\n",
       "      <th>1</th>\n",
       "      <td>55</td>\n",
       "      <td>7</td>\n",
       "      <td>12.73</td>\n",
       "    </tr>\n",
       "    <tr>\n",
       "      <th>5</th>\n",
       "      <td>54</td>\n",
       "      <td>5</td>\n",
       "      <td>9.26</td>\n",
       "    </tr>\n",
       "    <tr>\n",
       "      <th>2</th>\n",
       "      <td>30</td>\n",
       "      <td>2</td>\n",
       "      <td>6.67</td>\n",
       "    </tr>\n",
       "    <tr>\n",
       "      <th>3</th>\n",
       "      <td>80</td>\n",
       "      <td>3</td>\n",
       "      <td>3.75</td>\n",
       "    </tr>\n",
       "    <tr>\n",
       "      <th>6</th>\n",
       "      <td>71</td>\n",
       "      <td>1</td>\n",
       "      <td>1.41</td>\n",
       "    </tr>\n",
       "  </tbody>\n",
       "</table>\n",
       "</div>"
      ],
      "text/plain": [
       "        Total_Samples  Total_Errors  Error_percent\n",
       "Actual                                            \n",
       "4                  21             4          19.05\n",
       "0                  27             5          18.52\n",
       "1                  55             7          12.73\n",
       "5                  54             5           9.26\n",
       "2                  30             2           6.67\n",
       "3                  80             3           3.75\n",
       "6                  71             1           1.41"
      ]
     },
     "execution_count": 27,
     "metadata": {},
     "output_type": "execute_result"
    }
   ],
   "source": [
    "error_summary.sort_values(by='Error_percent', ascending=False)"
   ]
  },
  {
   "cell_type": "code",
   "execution_count": 29,
   "metadata": {},
   "outputs": [
    {
     "name": "stdout",
     "output_type": "stream",
     "text": [
      "[[22  1  0  0  0  1  3]\n",
      " [ 2 48  1  2  0  2  0]\n",
      " [ 1  0 28  1  0  0  0]\n",
      " [ 2  0  0 77  0  0  1]\n",
      " [ 0  0  0  0 17  4  0]\n",
      " [ 0  0  0  2  0 49  3]\n",
      " [ 0  0  0  1  0  0 70]]\n"
     ]
    }
   ],
   "source": [
    "conf_matrix = confusion_matrix(df_pred['Actual'], df_pred['Predicted'])\n",
    "print(conf_matrix)"
   ]
  },
  {
   "cell_type": "code",
   "execution_count": 30,
   "metadata": {},
   "outputs": [
    {
     "data": {
      "text/plain": [
       "['../model/forest_model_ex00.joblib']"
      ]
     },
     "execution_count": 30,
     "metadata": {},
     "output_type": "execute_result"
    }
   ],
   "source": [
    "joblib.dump(forest_model, '../model/forest_model_ex00.joblib')"
   ]
  }
 ],
 "metadata": {
  "kernelspec": {
   "display_name": "Python 3",
   "language": "python",
   "name": "python3"
  },
  "language_info": {
   "codemirror_mode": {
    "name": "ipython",
    "version": 3
   },
   "file_extension": ".py",
   "mimetype": "text/x-python",
   "name": "python",
   "nbconvert_exporter": "python",
   "pygments_lexer": "ipython3",
   "version": "3.11.9"
  }
 },
 "nbformat": 4,
 "nbformat_minor": 4
}
