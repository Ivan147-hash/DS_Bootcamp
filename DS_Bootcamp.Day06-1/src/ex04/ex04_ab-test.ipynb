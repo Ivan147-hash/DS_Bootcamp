{
 "cells": [
  {
   "cell_type": "code",
   "execution_count": 52,
   "metadata": {},
   "outputs": [],
   "source": [
    "import pandas as pd\n",
    "import sqlite3"
   ]
  },
  {
   "cell_type": "markdown",
   "metadata": {},
   "source": [
    "#### Подключение к базе данных"
   ]
  },
  {
   "cell_type": "code",
   "execution_count": 53,
   "metadata": {},
   "outputs": [
    {
     "name": "stdout",
     "output_type": "stream",
     "text": [
      "Успешное подключение к базе данных.\n"
     ]
    }
   ],
   "source": [
    "try:\n",
    "    conn = sqlite3.connect('../data/checking-logs.sqlite')\n",
    "    print(\"Успешное подключение к базе данных.\")\n",
    "except sqlite3.Error as e:\n",
    "    print(f\"Ошибка при подключении к базе данных: {e}\")\n",
    "    exit()"
   ]
  },
  {
   "cell_type": "markdown",
   "metadata": {},
   "source": [
    "#### A/B-тестирование"
   ]
  },
  {
   "cell_type": "code",
   "execution_count": 54,
   "metadata": {},
   "outputs": [
    {
     "data": {
      "text/html": [
       "<div>\n",
       "<style scoped>\n",
       "    .dataframe tbody tr th:only-of-type {\n",
       "        vertical-align: middle;\n",
       "    }\n",
       "\n",
       "    .dataframe tbody tr th {\n",
       "        vertical-align: top;\n",
       "    }\n",
       "\n",
       "    .dataframe thead th {\n",
       "        text-align: right;\n",
       "    }\n",
       "</style>\n",
       "<table border=\"1\" class=\"dataframe\">\n",
       "  <thead>\n",
       "    <tr style=\"text-align: right;\">\n",
       "      <th></th>\n",
       "      <th>time</th>\n",
       "      <th>avg_diff</th>\n",
       "    </tr>\n",
       "  </thead>\n",
       "  <tbody>\n",
       "    <tr>\n",
       "      <th>0</th>\n",
       "      <td>after</td>\n",
       "      <td>104.6000</td>\n",
       "    </tr>\n",
       "    <tr>\n",
       "      <th>1</th>\n",
       "      <td>before</td>\n",
       "      <td>60.5625</td>\n",
       "    </tr>\n",
       "  </tbody>\n",
       "</table>\n",
       "</div>"
      ],
      "text/plain": [
       "     time  avg_diff\n",
       "0   after  104.6000\n",
       "1  before   60.5625"
      ]
     },
     "execution_count": 54,
     "metadata": {},
     "output_type": "execute_result"
    }
   ],
   "source": [
    "query = \"\"\"\n",
    "    SELECT \n",
    "        time,\n",
    "       avg(diff) AS avg_diff\n",
    "    FROM \n",
    "        (SELECT \n",
    "            uid,\n",
    "            CAST( (JulianDay(datetime(deadlines.deadlines, 'unixepoch')) -\n",
    "                    JulianDay(test.first_commit_ts)) * 24 as Integer\n",
    "                ) as diff,\n",
    "                CASE WHEN test.first_commit_ts < test.first_view_ts\n",
    "                THEN 'before' ELSE 'after' END AS time\n",
    "        FROM test LEFT JOIN deadlines on test.labname = deadlines.labs\n",
    "        WHERE \n",
    "            labname !='project1'\n",
    "        )\n",
    "    WHERE \n",
    "        uid in (SELECT \n",
    "                uid\n",
    "                FROM (SELECT \n",
    "                    uid,\n",
    "                        CASE WHEN test.first_commit_ts < test.first_view_ts\n",
    "                        THEN 'before' ELSE 'after' END as time\n",
    "                    FROM test\n",
    "                    LEFT JOIN deadlines ON test.labname=deadlines.labs\n",
    "                    WHERE \n",
    "                        labname != 'project1'\n",
    "                    )\n",
    "                GROUP BY uid\n",
    "                HAVING COUNT(DISTINCT time)=2\n",
    "                )\n",
    "    GROUP BY time\n",
    "\"\"\"\n",
    "\n",
    "test_results = pd.read_sql_query(query, conn)\n",
    "test_results"
   ]
  },
  {
   "cell_type": "code",
   "execution_count": null,
   "metadata": {},
   "outputs": [
    {
     "data": {
      "text/html": [
       "<div>\n",
       "<style scoped>\n",
       "    .dataframe tbody tr th:only-of-type {\n",
       "        vertical-align: middle;\n",
       "    }\n",
       "\n",
       "    .dataframe tbody tr th {\n",
       "        vertical-align: top;\n",
       "    }\n",
       "\n",
       "    .dataframe thead th {\n",
       "        text-align: right;\n",
       "    }\n",
       "</style>\n",
       "<table border=\"1\" class=\"dataframe\">\n",
       "  <thead>\n",
       "    <tr style=\"text-align: right;\">\n",
       "      <th></th>\n",
       "      <th>time</th>\n",
       "      <th>avg_diff</th>\n",
       "    </tr>\n",
       "  </thead>\n",
       "  <tbody>\n",
       "    <tr>\n",
       "      <th>0</th>\n",
       "      <td>after</td>\n",
       "      <td>117.636364</td>\n",
       "    </tr>\n",
       "    <tr>\n",
       "      <th>1</th>\n",
       "      <td>before</td>\n",
       "      <td>99.464286</td>\n",
       "    </tr>\n",
       "  </tbody>\n",
       "</table>\n",
       "</div>"
      ],
      "text/plain": [
       "     time    avg_diff\n",
       "0   after  117.636364\n",
       "1  before   99.464286"
      ]
     },
     "execution_count": 55,
     "metadata": {},
     "output_type": "execute_result"
    }
   ],
   "source": [
    "query = \"\"\"\n",
    "    SELECT \n",
    "        time,\n",
    "       avg(diff) AS avg_diff\n",
    "    FROM \n",
    "        (SELECT \n",
    "            uid,\n",
    "            CAST( (JulianDay(datetime(deadlines.deadlines, 'unixepoch')) -\n",
    "                    JulianDay(control.first_commit_ts)) * 24 as Integer\n",
    "                ) as diff,\n",
    "                CASE WHEN control.first_commit_ts < control.first_view_ts\n",
    "                THEN 'before' ELSE 'after' END AS time\n",
    "        FROM control LEFT JOIN deadlines on control.labname = deadlines.labs\n",
    "        WHERE \n",
    "            labname !='project1'\n",
    "        )\n",
    "    WHERE \n",
    "        uid in (SELECT \n",
    "                uid\n",
    "                FROM (SELECT \n",
    "                    uid,\n",
    "                        CASE WHEN control.first_commit_ts < control.first_view_ts\n",
    "                        THEN 'before' ELSE 'after' END as time\n",
    "                    FROM control\n",
    "                    LEFT JOIN deadlines ON control.labname=deadlines.labs\n",
    "                    WHERE \n",
    "                        labname != 'project1'\n",
    "                    )\n",
    "                GROUP BY uid\n",
    "                HAVING COUNT(DISTINCT time)=2\n",
    "                )\n",
    "    GROUP BY time\n",
    "\"\"\"\n",
    "control_results = pd.read_sql_query(query, conn)\n",
    "control_results"
   ]
  },
  {
   "cell_type": "markdown",
   "metadata": {},
   "source": [
    "#### Гипотеза оказалась верной и страница действительно влияет на поведение студентов?"
   ]
  },
  {
   "cell_type": "markdown",
   "metadata": {},
   "source": [
    "Предварительные выводы:\n",
    "\n",
    "* В тестовой группе наблюдается значительное увеличение дельты после первого просмотра новостной ленты (104.6 - 60.56 = 44.04 часа). Это говорит о том, что студенты в тестовой группе стали начинать работать над заданиями раньше после того, как у них появилась возможность просматривать новостную ленту.\n",
    "* В контрольной группе также наблюдается увеличение дельты, но менее выраженное (117.64 - 99.46 = 18.18 часа). Это может быть связано с другими факторами, не связанными с новостной лентой (например, студенты в целом стали лучше планировать свое время).\n",
    "\n",
    "    Исходя из представленных результатов можем сделсть предварительный вывод, что гипотеза **подтвердилась.**\n",
    "    \n",
    "    _Для подтверждения гипотезы о влиянии новостной ленты, необходимо провести статистический анализ, чтобы убедиться, что наблюдаемые различия являются статистически значимыми и не обусловлены случайностью._"
   ]
  },
  {
   "cell_type": "markdown",
   "metadata": {},
   "source": [
    "#### Закрытие соединения"
   ]
  },
  {
   "cell_type": "code",
   "execution_count": 56,
   "metadata": {},
   "outputs": [],
   "source": [
    "conn.close()"
   ]
  }
 ],
 "metadata": {
  "kernelspec": {
   "display_name": "Python 3",
   "language": "python",
   "name": "python3"
  },
  "language_info": {
   "codemirror_mode": {
    "name": "ipython",
    "version": 3
   },
   "file_extension": ".py",
   "mimetype": "text/x-python",
   "name": "python",
   "nbconvert_exporter": "python",
   "pygments_lexer": "ipython3",
   "version": "3.11.9"
  }
 },
 "nbformat": 4,
 "nbformat_minor": 2
}
