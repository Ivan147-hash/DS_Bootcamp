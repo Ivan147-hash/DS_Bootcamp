{
 "cells": [
  {
   "cell_type": "code",
   "execution_count": 101,
   "metadata": {},
   "outputs": [],
   "source": [
    "import pandas as pd\n",
    "import sqlite3"
   ]
  },
  {
   "cell_type": "markdown",
   "metadata": {},
   "source": [
    "#### Подключение к базе данных"
   ]
  },
  {
   "cell_type": "code",
   "execution_count": 102,
   "metadata": {},
   "outputs": [
    {
     "name": "stdout",
     "output_type": "stream",
     "text": [
      "Успешное подключение к базе данных.\n"
     ]
    }
   ],
   "source": [
    "try:\n",
    "    conn = sqlite3.connect('../data/checking-logs.sqlite')\n",
    "    print(\"Успешное подключение к базе данных.\")\n",
    "except sqlite3.Error as e:\n",
    "    print(f\"Ошибка при подключении к базе данных: {e}\")\n",
    "    exit()"
   ]
  },
  {
   "cell_type": "markdown",
   "metadata": {},
   "source": [
    "#### Создание новой таблицы datamart"
   ]
  },
  {
   "cell_type": "code",
   "execution_count": 103,
   "metadata": {},
   "outputs": [
    {
     "name": "stdout",
     "output_type": "stream",
     "text": [
      "Таблица 'datamart' создана и заполнена.\n"
     ]
    },
    {
     "data": {
      "text/html": [
       "<div>\n",
       "<style scoped>\n",
       "    .dataframe tbody tr th:only-of-type {\n",
       "        vertical-align: middle;\n",
       "    }\n",
       "\n",
       "    .dataframe tbody tr th {\n",
       "        vertical-align: top;\n",
       "    }\n",
       "\n",
       "    .dataframe thead th {\n",
       "        text-align: right;\n",
       "    }\n",
       "</style>\n",
       "<table border=\"1\" class=\"dataframe\">\n",
       "  <thead>\n",
       "    <tr style=\"text-align: right;\">\n",
       "      <th></th>\n",
       "      <th>uid</th>\n",
       "      <th>labname</th>\n",
       "      <th>first_commit_ts</th>\n",
       "      <th>first_view_ts</th>\n",
       "    </tr>\n",
       "  </thead>\n",
       "  <tbody>\n",
       "    <tr>\n",
       "      <th>0</th>\n",
       "      <td>user_1</td>\n",
       "      <td>laba04</td>\n",
       "      <td>2020-04-26 17:06:18.462708</td>\n",
       "      <td>2020-04-26 21:53:59.624136</td>\n",
       "    </tr>\n",
       "    <tr>\n",
       "      <th>1</th>\n",
       "      <td>user_1</td>\n",
       "      <td>laba04s</td>\n",
       "      <td>2020-04-26 17:12:11.843671</td>\n",
       "      <td>2020-04-26 21:53:59.624136</td>\n",
       "    </tr>\n",
       "    <tr>\n",
       "      <th>2</th>\n",
       "      <td>user_1</td>\n",
       "      <td>laba05</td>\n",
       "      <td>2020-05-02 19:15:18.540185</td>\n",
       "      <td>2020-04-26 21:53:59.624136</td>\n",
       "    </tr>\n",
       "    <tr>\n",
       "      <th>3</th>\n",
       "      <td>user_1</td>\n",
       "      <td>laba06</td>\n",
       "      <td>2020-05-17 16:26:35.268534</td>\n",
       "      <td>2020-04-26 21:53:59.624136</td>\n",
       "    </tr>\n",
       "    <tr>\n",
       "      <th>4</th>\n",
       "      <td>user_1</td>\n",
       "      <td>laba06s</td>\n",
       "      <td>2020-05-20 12:23:37.289724</td>\n",
       "      <td>2020-04-26 21:53:59.624136</td>\n",
       "    </tr>\n",
       "    <tr>\n",
       "      <th>...</th>\n",
       "      <td>...</td>\n",
       "      <td>...</td>\n",
       "      <td>...</td>\n",
       "      <td>...</td>\n",
       "    </tr>\n",
       "    <tr>\n",
       "      <th>135</th>\n",
       "      <td>user_8</td>\n",
       "      <td>laba04s</td>\n",
       "      <td>2020-04-19 10:22:35.761944</td>\n",
       "      <td>NaT</td>\n",
       "    </tr>\n",
       "    <tr>\n",
       "      <th>136</th>\n",
       "      <td>user_8</td>\n",
       "      <td>laba05</td>\n",
       "      <td>2020-05-02 13:28:07.705193</td>\n",
       "      <td>NaT</td>\n",
       "    </tr>\n",
       "    <tr>\n",
       "      <th>137</th>\n",
       "      <td>user_8</td>\n",
       "      <td>laba06</td>\n",
       "      <td>2020-05-16 17:56:15.755553</td>\n",
       "      <td>NaT</td>\n",
       "    </tr>\n",
       "    <tr>\n",
       "      <th>138</th>\n",
       "      <td>user_8</td>\n",
       "      <td>laba06s</td>\n",
       "      <td>2020-05-16 20:01:07.900727</td>\n",
       "      <td>NaT</td>\n",
       "    </tr>\n",
       "    <tr>\n",
       "      <th>139</th>\n",
       "      <td>user_8</td>\n",
       "      <td>project1</td>\n",
       "      <td>2020-05-14 15:42:04.002981</td>\n",
       "      <td>NaT</td>\n",
       "    </tr>\n",
       "  </tbody>\n",
       "</table>\n",
       "<p>140 rows × 4 columns</p>\n",
       "</div>"
      ],
      "text/plain": [
       "        uid   labname            first_commit_ts              first_view_ts\n",
       "0    user_1    laba04 2020-04-26 17:06:18.462708 2020-04-26 21:53:59.624136\n",
       "1    user_1   laba04s 2020-04-26 17:12:11.843671 2020-04-26 21:53:59.624136\n",
       "2    user_1    laba05 2020-05-02 19:15:18.540185 2020-04-26 21:53:59.624136\n",
       "3    user_1    laba06 2020-05-17 16:26:35.268534 2020-04-26 21:53:59.624136\n",
       "4    user_1   laba06s 2020-05-20 12:23:37.289724 2020-04-26 21:53:59.624136\n",
       "..      ...       ...                        ...                        ...\n",
       "135  user_8   laba04s 2020-04-19 10:22:35.761944                        NaT\n",
       "136  user_8    laba05 2020-05-02 13:28:07.705193                        NaT\n",
       "137  user_8    laba06 2020-05-16 17:56:15.755553                        NaT\n",
       "138  user_8   laba06s 2020-05-16 20:01:07.900727                        NaT\n",
       "139  user_8  project1 2020-05-14 15:42:04.002981                        NaT\n",
       "\n",
       "[140 rows x 4 columns]"
      ]
     },
     "execution_count": 103,
     "metadata": {},
     "output_type": "execute_result"
    }
   ],
   "source": [
    "query = \"\"\"\n",
    "    CREATE TABLE IF NOT EXISTS datamart AS\n",
    "    SELECT\n",
    "        checker.uid AS uid,\n",
    "        checker.labname AS labname,\n",
    "        checker.timestamp AS first_commit_ts,\n",
    "        MIN(pageviews.datetime) AS first_view_ts\n",
    "    FROM checker \n",
    "    LEFT JOIN pageviews ON checker.uid = pageviews.uid\n",
    "    WHERE checker.status = 'ready'\n",
    "        AND checker.numTrials = 1\n",
    "        AND checker.labname IN ('laba04', 'laba04s', 'laba05', 'laba06', 'laba06s', 'project1')\n",
    "        AND checker.uid LIKE 'user_%'\n",
    "    GROUP BY\n",
    "        checker.uid, checker.labname\n",
    "\"\"\"\n",
    "cursor = conn.cursor()\n",
    "cursor.execute(query)\n",
    "conn.commit()\n",
    "print(\"Таблица 'datamart' создана и заполнена.\")\n",
    "\n",
    "\n",
    "query_select = \"SELECT * FROM datamart\"\n",
    "datamart = pd.read_sql(query_select, conn, parse_dates=['first_commit_ts', 'first_view_ts'])\n",
    "datamart\n"
   ]
  },
  {
   "cell_type": "markdown",
   "metadata": {},
   "source": [
    "#### Создание двух фреймов данных: тестовый и контрольный"
   ]
  },
  {
   "cell_type": "code",
   "execution_count": 104,
   "metadata": {},
   "outputs": [
    {
     "name": "stdout",
     "output_type": "stream",
     "text": [
      "         uid   labname            first_commit_ts              first_view_ts\n",
      "0     user_1    laba04 2020-04-26 17:06:18.462708 2020-04-26 21:53:59.624136\n",
      "1     user_1   laba04s 2020-04-26 17:12:11.843671 2020-04-26 21:53:59.624136\n",
      "2     user_1    laba05 2020-05-02 19:15:18.540185 2020-04-26 21:53:59.624136\n",
      "3     user_1    laba06 2020-05-17 16:26:35.268534 2020-04-26 21:53:59.624136\n",
      "4     user_1   laba06s 2020-05-20 12:23:37.289724 2020-04-26 21:53:59.624136\n",
      "5     user_1  project1 2020-05-14 20:56:08.898880 2020-04-26 21:53:59.624136\n",
      "6    user_10    laba04 2020-04-25 08:24:52.696624 2020-04-18 12:19:50.182714\n",
      "7    user_10   laba04s 2020-04-25 08:37:54.604222 2020-04-18 12:19:50.182714\n",
      "8    user_10    laba05 2020-05-01 19:27:26.063245 2020-04-18 12:19:50.182714\n",
      "9    user_10    laba06 2020-05-19 11:39:28.885637 2020-04-18 12:19:50.182714\n",
      "10   user_10   laba06s 2020-05-20 07:37:31.175817 2020-04-18 12:19:50.182714\n",
      "11   user_10  project1 2020-05-12 20:12:28.056618 2020-04-18 12:19:50.182714\n",
      "24   user_14    laba04 2020-04-18 15:14:00.312338 2020-04-18 10:53:52.623447\n",
      "25   user_14   laba04s 2020-04-18 22:30:30.247628 2020-04-18 10:53:52.623447\n",
      "26   user_14    laba05 2020-04-30 11:33:04.523118 2020-04-18 10:53:52.623447\n",
      "27   user_14  project1 2020-05-05 21:35:43.554986 2020-04-18 10:53:52.623447\n",
      "34   user_17    laba04 2020-04-23 14:24:29.947554 2020-04-18 10:56:55.833899\n",
      "35   user_17   laba04s 2020-04-25 12:10:56.414175 2020-04-18 10:56:55.833899\n",
      "36   user_17    laba05 2020-05-02 13:21:24.045876 2020-04-18 10:56:55.833899\n",
      "37   user_17    laba06 2020-05-21 15:21:31.567615 2020-04-18 10:56:55.833899\n",
      "38   user_17   laba06s 2020-05-21 17:39:17.783615 2020-04-18 10:56:55.833899\n",
      "39   user_17  project1 2020-04-18 07:56:45.408648 2020-04-18 10:56:55.833899\n",
      "40   user_18    laba04 2020-04-26 19:48:11.822365 2020-04-26 22:49:29.243278\n",
      "41   user_18   laba04s 2020-04-26 20:03:56.935458 2020-04-26 22:49:29.243278\n",
      "42   user_18    laba05 2020-05-03 13:01:34.848756 2020-04-26 22:49:29.243278\n",
      "43   user_18  project1 2020-05-11 10:10:04.166881 2020-04-26 22:49:29.243278\n",
      "44   user_19    laba04 2020-04-20 19:05:01.297780 2020-04-21 20:30:38.034966\n",
      "45   user_19    laba05 2020-05-02 15:16:13.586405 2020-04-21 20:30:38.034966\n",
      "46   user_19    laba06 2020-05-19 10:25:54.121465 2020-04-21 20:30:38.034966\n",
      "47   user_19   laba06s 2020-05-21 13:27:06.705881 2020-04-21 20:30:38.034966\n",
      "48   user_19  project1 2020-05-14 10:33:45.495389 2020-04-21 20:30:38.034966\n",
      "59   user_21    laba04 2020-04-21 17:48:00.487806 2020-04-22 22:40:36.824081\n",
      "60   user_21   laba04s 2020-04-22 20:09:21.857747 2020-04-22 22:40:36.824081\n",
      "61   user_21    laba05 2020-05-02 14:05:40.013959 2020-04-22 22:40:36.824081\n",
      "62   user_21    laba06 2020-05-19 19:30:14.644328 2020-04-22 22:40:36.824081\n",
      "63   user_21  project1 2020-05-10 15:21:05.442755 2020-04-22 22:40:36.824081\n",
      "78   user_25    laba04 2020-04-20 19:16:50.673054 2020-05-09 23:54:54.260791\n",
      "79   user_25   laba04s 2020-04-26 21:07:56.952117 2020-05-09 23:54:54.260791\n",
      "80   user_25    laba05 2020-05-01 13:02:27.357650 2020-05-09 23:54:54.260791\n",
      "81   user_25    laba06 2020-05-18 17:07:47.988807 2020-05-09 23:54:54.260791\n",
      "82   user_25   laba06s 2020-05-20 14:02:26.512032 2020-05-09 23:54:54.260791\n",
      "83   user_25  project1 2020-05-08 11:10:28.100852 2020-05-09 23:54:54.260791\n",
      "92   user_28    laba04 2020-04-22 21:47:19.707242 2020-05-10 21:07:50.350946\n",
      "93   user_28   laba04s 2020-04-26 15:53:44.906136 2020-05-10 21:07:50.350946\n",
      "94   user_28    laba05 2020-05-01 18:29:11.968537 2020-05-10 21:07:50.350946\n",
      "95   user_28    laba06 2020-05-17 17:08:48.257050 2020-05-10 21:07:50.350946\n",
      "96   user_28   laba06s 2020-05-20 20:42:44.423160 2020-05-10 21:07:50.350946\n",
      "97   user_28  project1 2020-05-12 14:42:19.166414 2020-05-10 21:07:50.350946\n",
      "104   user_3    laba04 2020-04-23 20:29:14.054364 2020-05-08 10:53:47.123832\n",
      "105   user_3   laba04s 2020-04-23 20:40:26.883591 2020-05-08 10:53:47.123832\n",
      "106   user_3    laba05 2020-05-01 11:29:17.988118 2020-05-08 10:53:47.123832\n",
      "107   user_3    laba06 2020-05-17 09:56:40.480319 2020-05-08 10:53:47.123832\n",
      "108   user_3   laba06s 2020-05-19 08:42:50.851878 2020-05-08 10:53:47.123832\n",
      "109   user_3  project1 2020-05-07 21:02:52.885133 2020-05-08 10:53:47.123832\n",
      "110  user_30    laba04 2020-04-18 13:36:53.971502 2020-04-17 22:46:26.785035\n",
      "111  user_30   laba04s 2020-04-18 14:51:37.498399 2020-04-17 22:46:26.785035\n",
      "112  user_30    laba05 2020-05-01 19:31:18.375833 2020-04-17 22:46:26.785035\n",
      "113  user_30    laba06 2020-05-19 17:53:15.088248 2020-04-17 22:46:26.785035\n",
      "114  user_30  project1 2020-04-22 12:36:24.053518 2020-04-17 22:46:26.785035\n"
     ]
    }
   ],
   "source": [
    "test = datamart[datamart['first_view_ts'].notna()].copy()\n",
    "print(test)"
   ]
  },
  {
   "cell_type": "code",
   "execution_count": 105,
   "metadata": {},
   "outputs": [
    {
     "name": "stdout",
     "output_type": "stream",
     "text": [
      "         uid   labname            first_commit_ts first_view_ts\n",
      "12   user_11    laba05 2020-05-03 21:06:55.970293           NaT\n",
      "13   user_11  project1 2020-05-03 23:45:33.673409           NaT\n",
      "14   user_12    laba04 2020-04-18 17:07:51.767358           NaT\n",
      "15   user_12   laba04s 2020-04-26 15:42:38.070593           NaT\n",
      "16   user_12    laba05 2020-05-03 08:39:25.174316           NaT\n",
      "..       ...       ...                        ...           ...\n",
      "135   user_8   laba04s 2020-04-19 10:22:35.761944           NaT\n",
      "136   user_8    laba05 2020-05-02 13:28:07.705193           NaT\n",
      "137   user_8    laba06 2020-05-16 17:56:15.755553           NaT\n",
      "138   user_8   laba06s 2020-05-16 20:01:07.900727           NaT\n",
      "139   user_8  project1 2020-05-14 15:42:04.002981           NaT\n",
      "\n",
      "[81 rows x 4 columns]\n"
     ]
    }
   ],
   "source": [
    "control = datamart[datamart['first_view_ts'].isna()].copy()\n",
    "print(control)"
   ]
  },
  {
   "cell_type": "code",
   "execution_count": 106,
   "metadata": {},
   "outputs": [
    {
     "name": "stdout",
     "output_type": "stream",
     "text": [
      "         uid   labname            first_commit_ts  \\\n",
      "12   user_11    laba05 2020-05-03 21:06:55.970293   \n",
      "13   user_11  project1 2020-05-03 23:45:33.673409   \n",
      "14   user_12    laba04 2020-04-18 17:07:51.767358   \n",
      "15   user_12   laba04s 2020-04-26 15:42:38.070593   \n",
      "16   user_12    laba05 2020-05-03 08:39:25.174316   \n",
      "..       ...       ...                        ...   \n",
      "135   user_8   laba04s 2020-04-19 10:22:35.761944   \n",
      "136   user_8    laba05 2020-05-02 13:28:07.705193   \n",
      "137   user_8    laba06 2020-05-16 17:56:15.755553   \n",
      "138   user_8   laba06s 2020-05-16 20:01:07.900727   \n",
      "139   user_8  project1 2020-05-14 15:42:04.002981   \n",
      "\n",
      "                    first_view_ts  \n",
      "12  2020-04-27 00:40:05.761783552  \n",
      "13  2020-04-27 00:40:05.761783552  \n",
      "14  2020-04-27 00:40:05.761783552  \n",
      "15  2020-04-27 00:40:05.761783552  \n",
      "16  2020-04-27 00:40:05.761783552  \n",
      "..                            ...  \n",
      "135 2020-04-27 00:40:05.761783552  \n",
      "136 2020-04-27 00:40:05.761783552  \n",
      "137 2020-04-27 00:40:05.761783552  \n",
      "138 2020-04-27 00:40:05.761783552  \n",
      "139 2020-04-27 00:40:05.761783552  \n",
      "\n",
      "[81 rows x 4 columns]\n"
     ]
    }
   ],
   "source": [
    "mean_value = test['first_view_ts'].mean()\n",
    "control['first_view_ts'] = control['first_view_ts'].fillna(mean_value)\n",
    "print(control)"
   ]
  },
  {
   "cell_type": "markdown",
   "metadata": {},
   "source": [
    "#### Сохранение таблиц в базе данных"
   ]
  },
  {
   "cell_type": "code",
   "execution_count": 107,
   "metadata": {},
   "outputs": [
    {
     "name": "stdout",
     "output_type": "stream",
     "text": [
      "DataFrames 'test' и 'control' сохранены в базу данных.\n"
     ]
    }
   ],
   "source": [
    "try:\n",
    "    test.to_sql('test', conn, if_exists='replace', index=False)\n",
    "    control.to_sql('control', conn, if_exists='replace', index=False)\n",
    "\n",
    "    print(\"DataFrames 'test' и 'control' сохранены в базу данных.\")\n",
    "except Exception as e:\n",
    "    print(f\"Ошибка при сохранении dataframes в базу данных: {e}\")"
   ]
  },
  {
   "cell_type": "markdown",
   "metadata": {},
   "source": [
    "#### Закрытие соединения"
   ]
  },
  {
   "cell_type": "code",
   "execution_count": 108,
   "metadata": {},
   "outputs": [],
   "source": [
    "conn.close()"
   ]
  }
 ],
 "metadata": {
  "kernelspec": {
   "display_name": "Python 3",
   "language": "python",
   "name": "python3"
  },
  "language_info": {
   "codemirror_mode": {
    "name": "ipython",
    "version": 3
   },
   "file_extension": ".py",
   "mimetype": "text/x-python",
   "name": "python",
   "nbconvert_exporter": "python",
   "pygments_lexer": "ipython3",
   "version": "3.11.9"
  }
 },
 "nbformat": 4,
 "nbformat_minor": 2
}
